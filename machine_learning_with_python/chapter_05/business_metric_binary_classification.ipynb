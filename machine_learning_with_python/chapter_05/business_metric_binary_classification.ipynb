{
 "cells": [
  {
   "cell_type": "markdown",
   "metadata": {
    "toc": true
   },
   "source": [
    "<h1>目次<span class=\"tocSkip\"></span></h1>\n",
    "<div class=\"toc\"><ul class=\"toc-item\"><li><span><a href=\"#ウィスコンシン乳癌データセット\" data-toc-modified-id=\"ウィスコンシン乳癌データセット-1\"><span class=\"toc-item-num\">1&nbsp;&nbsp;</span>ウィスコンシン乳癌データセット</a></span></li><li><span><a href=\"#乳癌データの読み込み\" data-toc-modified-id=\"乳癌データの読み込み-2\"><span class=\"toc-item-num\">2&nbsp;&nbsp;</span>乳癌データの読み込み</a></span><ul class=\"toc-item\"><li><span><a href=\"#特徴量\" data-toc-modified-id=\"特徴量-2.1\"><span class=\"toc-item-num\">2.1&nbsp;&nbsp;</span>特徴量</a></span></li><li><span><a href=\"#目的変数\" data-toc-modified-id=\"目的変数-2.2\"><span class=\"toc-item-num\">2.2&nbsp;&nbsp;</span>目的変数</a></span></li><li><span><a href=\"#教師データを学習用とテスト用に分割\" data-toc-modified-id=\"教師データを学習用とテスト用に分割-2.3\"><span class=\"toc-item-num\">2.3&nbsp;&nbsp;</span>教師データを学習用とテスト用に分割</a></span></li></ul></li><li><span><a href=\"#ランダムフォレストでモデル作成\" data-toc-modified-id=\"ランダムフォレストでモデル作成-3\"><span class=\"toc-item-num\">3&nbsp;&nbsp;</span>ランダムフォレストでモデル作成</a></span><ul class=\"toc-item\"><li><span><a href=\"#予測\" data-toc-modified-id=\"予測-3.1\"><span class=\"toc-item-num\">3.1&nbsp;&nbsp;</span>予測</a></span></li></ul></li><li><span><a href=\"#モデル評価\" data-toc-modified-id=\"モデル評価-4\"><span class=\"toc-item-num\">4&nbsp;&nbsp;</span>モデル評価</a></span><ul class=\"toc-item\"><li><span><a href=\"#混合行列（confusion-matrix)\" data-toc-modified-id=\"混合行列（confusion-matrix)-4.1\"><span class=\"toc-item-num\">4.1&nbsp;&nbsp;</span>混合行列（confusion matrix)</a></span></li><li><span><a href=\"#正解率（Accuracy)\" data-toc-modified-id=\"正解率（Accuracy)-4.2\"><span class=\"toc-item-num\">4.2&nbsp;&nbsp;</span>正解率（Accuracy)</a></span></li><li><span><a href=\"#適合率（Precision）\" data-toc-modified-id=\"適合率（Precision）-4.3\"><span class=\"toc-item-num\">4.3&nbsp;&nbsp;</span>適合率（Precision）</a></span></li><li><span><a href=\"#再現率（recall）\" data-toc-modified-id=\"再現率（recall）-4.4\"><span class=\"toc-item-num\">4.4&nbsp;&nbsp;</span>再現率（recall）</a></span></li><li><span><a href=\"#F値（F-Measure）\" data-toc-modified-id=\"F値（F-Measure）-4.5\"><span class=\"toc-item-num\">4.5&nbsp;&nbsp;</span>F値（F-Measure）</a></span></li><li><span><a href=\"#閾値の制御\" data-toc-modified-id=\"閾値の制御-4.6\"><span class=\"toc-item-num\">4.6&nbsp;&nbsp;</span>閾値の制御</a></span></li><li><span><a href=\"#ROC曲線（Receiver-Operating-Characteristic）とAUC（Area-Under-the-Curve）\" data-toc-modified-id=\"ROC曲線（Receiver-Operating-Characteristic）とAUC（Area-Under-the-Curve）-4.7\"><span class=\"toc-item-num\">4.7&nbsp;&nbsp;</span>ROC曲線（Receiver Operating Characteristic）とAUC（Area Under the Curve）</a></span></li><li><span><a href=\"#Log-Loss（Logarithmic-Loss：ログ損失）\" data-toc-modified-id=\"Log-Loss（Logarithmic-Loss：ログ損失）-4.8\"><span class=\"toc-item-num\">4.8&nbsp;&nbsp;</span>Log Loss（Logarithmic Loss：ログ損失）</a></span></li></ul></li><li><span><a href=\"#LightGBMによる精度向上\" data-toc-modified-id=\"LightGBMによる精度向上-5\"><span class=\"toc-item-num\">5&nbsp;&nbsp;</span>LightGBMによる精度向上</a></span></li><li><span><a href=\"#scikit-learnの便利機能\" data-toc-modified-id=\"scikit-learnの便利機能-6\"><span class=\"toc-item-num\">6&nbsp;&nbsp;</span>scikit-learnの便利機能</a></span></li></ul></div>"
   ]
  },
  {
   "cell_type": "markdown",
   "metadata": {},
   "source": [
    "# 2クラス分類におけるビジネス評価基準"
   ]
  },
  {
   "cell_type": "markdown",
   "metadata": {},
   "source": [
    "## ウィスコンシン乳癌データセット\n",
    "乳房塊の微細針吸引物（FNA）のデジタル化画像中に存在する細胞核の情報を特徴量とし、良性（Benign）と悪性（Malignant）に分類する\n",
    "\n",
    "https://scikit-learn.org/stable/modules/generated/sklearn.datasets.load_breast_cancer.html"
   ]
  },
  {
   "cell_type": "code",
   "execution_count": 1,
   "metadata": {
    "ExecuteTime": {
     "end_time": "2020-01-24T00:37:02.227608Z",
     "start_time": "2020-01-24T00:37:02.220581Z"
    }
   },
   "outputs": [],
   "source": [
    "# warningの抑止\n",
    "import warnings\n",
    "\n",
    "import numpy as np\n",
    "import pandas as pd\n",
    "import seaborn as sns\n",
    "# matplotの日本語表示\n",
    "from matplotlib import pyplot as plt\n",
    "\n",
    "# 最大表示行数\n",
    "pd.set_option('display.max_rows', 250)\n",
    "\n",
    "# 最大表示列数\n",
    "pd.set_option('display.max_columns', 250)\n",
    "\n",
    "warnings.filterwarnings('ignore')"
   ]
  },
  {
   "cell_type": "markdown",
   "metadata": {},
   "source": [
    "## 乳癌データの読み込み"
   ]
  },
  {
   "cell_type": "code",
   "execution_count": 2,
   "metadata": {
    "ExecuteTime": {
     "end_time": "2020-01-24T00:37:05.759436Z",
     "start_time": "2020-01-24T00:37:05.281637Z"
    }
   },
   "outputs": [
    {
     "data": {
      "text/plain": [
       "sklearn.utils.Bunch"
      ]
     },
     "execution_count": 2,
     "metadata": {},
     "output_type": "execute_result"
    }
   ],
   "source": [
    "from sklearn import datasets\n",
    "\n",
    "breast_cancer = datasets.load_breast_cancer()\n",
    "type(breast_cancer)"
   ]
  },
  {
   "cell_type": "markdown",
   "metadata": {},
   "source": [
    "### 特徴量"
   ]
  },
  {
   "cell_type": "code",
   "execution_count": 3,
   "metadata": {
    "ExecuteTime": {
     "end_time": "2020-01-24T00:37:08.737292Z",
     "start_time": "2020-01-24T00:37:08.734280Z"
    }
   },
   "outputs": [
    {
     "name": "stdout",
     "output_type": "stream",
     "text": [
      "(569, 30) \n",
      "\n",
      "['mean radius' 'mean texture' 'mean perimeter' 'mean area'\n",
      " 'mean smoothness' 'mean compactness' 'mean concavity'\n",
      " 'mean concave points' 'mean symmetry' 'mean fractal dimension'\n",
      " 'radius error' 'texture error' 'perimeter error' 'area error'\n",
      " 'smoothness error' 'compactness error' 'concavity error'\n",
      " 'concave points error' 'symmetry error' 'fractal dimension error'\n",
      " 'worst radius' 'worst texture' 'worst perimeter' 'worst area'\n",
      " 'worst smoothness' 'worst compactness' 'worst concavity'\n",
      " 'worst concave points' 'worst symmetry' 'worst fractal dimension'] \n",
      "\n",
      "[[1.799e+01 1.038e+01 1.228e+02 ... 2.654e-01 4.601e-01 1.189e-01]\n",
      " [2.057e+01 1.777e+01 1.329e+02 ... 1.860e-01 2.750e-01 8.902e-02]\n",
      " [1.969e+01 2.125e+01 1.300e+02 ... 2.430e-01 3.613e-01 8.758e-02]\n",
      " ...\n",
      " [1.660e+01 2.808e+01 1.083e+02 ... 1.418e-01 2.218e-01 7.820e-02]\n",
      " [2.060e+01 2.933e+01 1.401e+02 ... 2.650e-01 4.087e-01 1.240e-01]\n",
      " [7.760e+00 2.454e+01 4.792e+01 ... 0.000e+00 2.871e-01 7.039e-02]]\n"
     ]
    }
   ],
   "source": [
    "# 569件のデータ、30個の特徴量\n",
    "print(breast_cancer.data.shape, \"\\n\")\n",
    "print(breast_cancer.feature_names, \"\\n\")\n",
    "print(breast_cancer.data)"
   ]
  },
  {
   "cell_type": "markdown",
   "metadata": {},
   "source": [
    "各特徴量の意味は\n",
    "1. mean radius 平均半径\n",
    "2. mean texture テクスチャをグレースケールにした際の平均\n",
    "3. mean perimeter 平均外周の長さ\n",
    "4. mean area 平均面積\n",
    "5. mean smoothness 平均なめらかさ（半径の分散）\n",
    "6. mean compactness 外周長さ^2 / 面積 - 1.0で示すコンパクトさ平均\n",
    "7. mean concavity 輪郭の凹部の重要度の平均\n",
    "8. mean concave points 輪郭の凹部の数の平均\n",
    "9. mean symmetry 対称性\n",
    "10. mean fractal dimension フラクタル次元の平均\n",
    "11. radius error 半径誤差\n",
    "12. texture error テクスチャの誤差\n",
    "13. perimeter error 外周の誤差\n",
    "14. area error 面積の誤差\n",
    "15. smoothness error なめらかさの誤差\n",
    "16. compactness error コンパクトさの誤差\n",
    "17. concavity error 輪郭の凹部の重要度の誤差\n",
    "18. concave points error 輪郭の凹部の数の誤差\n",
    "19. symmetry error 対称性の誤差\n",
    "20. fractal dimension error フラクタル次元の誤差\n",
    "21. worst radius 半径最悪値\n",
    "22. worst texture テクスチャ最悪値\n",
    "23. worst perimeter 外周の長さ最悪値\n",
    "24. worst area 面積の最悪値\n",
    "25. worst smoothness なめらかさの最悪値\n",
    "26. worst compactness コンパクトさの最悪値\n",
    "27. worst concavity 輪郭の凹部の重要度の最悪値\n",
    "28. worst concave points 輪郭の凹部の数の最悪値\n",
    "29. worst symmetry 対称性の最悪値\n",
    "30. worst fractal dimension フラクタル次元の最悪値\n",
    "\n",
    "https://ensekitt.hatenablog.com/entry/2018/08/22/200000"
   ]
  },
  {
   "cell_type": "markdown",
   "metadata": {},
   "source": [
    "### 目的変数"
   ]
  },
  {
   "cell_type": "code",
   "execution_count": 4,
   "metadata": {
    "ExecuteTime": {
     "end_time": "2020-01-24T00:37:13.440751Z",
     "start_time": "2020-01-24T00:37:13.436736Z"
    }
   },
   "outputs": [
    {
     "name": "stdout",
     "output_type": "stream",
     "text": [
      "['malignant' 'benign']\n",
      "[0 0 0 0 1]\n"
     ]
    }
   ],
   "source": [
    "print(breast_cancer.target_names)\n",
    "print(breast_cancer.target[-5:])"
   ]
  },
  {
   "cell_type": "markdown",
   "metadata": {},
   "source": [
    "### 教師データを学習用とテスト用に分割"
   ]
  },
  {
   "cell_type": "code",
   "execution_count": 5,
   "metadata": {
    "ExecuteTime": {
     "end_time": "2020-01-24T00:40:56.945376Z",
     "start_time": "2020-01-24T00:40:56.924398Z"
    }
   },
   "outputs": [],
   "source": [
    "from sklearn.model_selection import train_test_split\n",
    "\n",
    "X_train, X_test, y_train, y_test = train_test_split(breast_cancer.data,\n",
    "                                                    breast_cancer.target,\n",
    "                                                    random_state=1234)"
   ]
  },
  {
   "cell_type": "markdown",
   "metadata": {},
   "source": [
    "## ランダムフォレストでモデル作成"
   ]
  },
  {
   "cell_type": "code",
   "execution_count": 6,
   "metadata": {
    "ExecuteTime": {
     "end_time": "2020-01-24T00:40:59.673570Z",
     "start_time": "2020-01-24T00:40:59.545175Z"
    }
   },
   "outputs": [
    {
     "data": {
      "text/plain": [
       "RandomForestClassifier(bootstrap=True, class_weight=None, criterion='gini',\n",
       "                       max_depth=None, max_features='auto', max_leaf_nodes=None,\n",
       "                       min_impurity_decrease=0.0, min_impurity_split=None,\n",
       "                       min_samples_leaf=1, min_samples_split=2,\n",
       "                       min_weight_fraction_leaf=0.0, n_estimators=10,\n",
       "                       n_jobs=None, oob_score=False, random_state=None,\n",
       "                       verbose=0, warm_start=False)"
      ]
     },
     "execution_count": 6,
     "metadata": {},
     "output_type": "execute_result"
    }
   ],
   "source": [
    "from sklearn.ensemble import RandomForestClassifier\n",
    "\n",
    "clf = RandomForestClassifier()\n",
    "clf.fit(X_train, y_train)"
   ]
  },
  {
   "cell_type": "markdown",
   "metadata": {},
   "source": [
    "### 予測"
   ]
  },
  {
   "cell_type": "code",
   "execution_count": 7,
   "metadata": {
    "ExecuteTime": {
     "end_time": "2020-01-24T05:44:38.663094Z",
     "start_time": "2020-01-24T05:44:38.654092Z"
    }
   },
   "outputs": [],
   "source": [
    "y_pred = clf.predict(X_test)"
   ]
  },
  {
   "cell_type": "markdown",
   "metadata": {},
   "source": [
    "## モデル評価"
   ]
  },
  {
   "cell_type": "markdown",
   "metadata": {},
   "source": [
    "２クラス分類問題の場合、２つのクラスを  \n",
    "・**陽性**  \n",
    "・**陰性**  \n",
    "と呼び、一般に、当てたいクラスを陽性と呼ぶ。  \n",
    "\n",
    "乳癌データの場合  \n",
    "・陽性=癌の疑い  \n",
    "・陰性=健康  \n",
    "となる。  \n",
    "\n",
    "機械学習を利用する場合、**正確な予測だけが目的とならない場合がある。**  \n",
    "モデルの高レベルでの目的（ビジネス評価基準）を見失ってはいけない。\n",
    "\n",
    "乳癌検査の分類の場合、**最も防ぐべき事は癌患者を陰性と判定する事**である。  \n",
    "健康な患者を陽性(癌の疑い）と判定する事は、余分な検査が増える事になるが**生命の危険に比べれば許容される誤り**である。\n",
    "\n",
    "統計学では  \n",
    "**偽陽性(false positive)**：間違って陽性と判定する事  \n",
    "**偽陰性(false negative)**：間違って陰性と判定する事  \n",
    "\n",
    "**真陽性(true positive)**：正しく陽性と判定する事  \n",
    "**真陰性(true negative)**：正しく陰性と判定する事  \n",
    "\n",
    "という呼ぶ。  \n",
    "<font color=\"red\">**癌の診断例では、偽陰性を可能な限り避ける事がビジネス評価基準**</font>  \n",
    "となる。\n",
    "\n",
    "また、偏ったデータの場合も正確な予測がビジネス評価基準にはならない場合が多い。    \n",
    "例えば、100回表示されて、1回クリックされる広告があった場合、全てクリックされないと予測すれば正解率は99%となるからである。"
   ]
  },
  {
   "cell_type": "markdown",
   "metadata": {},
   "source": [
    "### 混合行列（confusion matrix)"
   ]
  },
  {
   "cell_type": "markdown",
   "metadata": {},
   "source": [
    "2クラス分類の評価結果を表現する方法として、混合行列（confusion matrix)がある。  \n",
    "\n",
    "![混合行列](https://qiita-image-store.s3.ap-northeast-1.amazonaws.com/0/70152/29cc37e7-ff2e-d781-d4a4-e328fd7526a1.png)\n",
    "\n",
    "sklearnには混合行列が用意されているが、一般的な表記方法と陰性、陽性の表記順が逆転しており、\n",
    "\n",
    "|-|予測-陰性|予測-陽性|\n",
    "|---|:---:|---:|\n",
    "|**真実-陰性**|True Negative|False Positive|\n",
    "|**真実-陽性**|False Positive|True Positive|\n",
    "\n",
    "と出力される。  \n",
    "一般的な表記は\n",
    "\n",
    "|-|予測-陽性|予測-陰性|\n",
    "|---|:---:|---:|\n",
    "|**真実-陽性**|TP|FN|\n",
    "|**真実-陰性**|FP|TN|"
   ]
  },
  {
   "cell_type": "code",
   "execution_count": 8,
   "metadata": {
    "ExecuteTime": {
     "end_time": "2020-01-24T00:41:06.119799Z",
     "start_time": "2020-01-24T00:41:06.113797Z"
    }
   },
   "outputs": [
    {
     "data": {
      "text/html": [
       "<div>\n",
       "<style scoped>\n",
       "    .dataframe tbody tr th:only-of-type {\n",
       "        vertical-align: middle;\n",
       "    }\n",
       "\n",
       "    .dataframe tbody tr th {\n",
       "        vertical-align: top;\n",
       "    }\n",
       "\n",
       "    .dataframe thead th {\n",
       "        text-align: right;\n",
       "    }\n",
       "</style>\n",
       "<table border=\"1\" class=\"dataframe\">\n",
       "  <thead>\n",
       "    <tr style=\"text-align: right;\">\n",
       "      <th></th>\n",
       "      <th>予測-陰性</th>\n",
       "      <th>予測-陽性</th>\n",
       "    </tr>\n",
       "  </thead>\n",
       "  <tbody>\n",
       "    <tr>\n",
       "      <th>真実-陰性</th>\n",
       "      <td>46</td>\n",
       "      <td>9</td>\n",
       "    </tr>\n",
       "    <tr>\n",
       "      <th>真実-陽性</th>\n",
       "      <td>2</td>\n",
       "      <td>86</td>\n",
       "    </tr>\n",
       "  </tbody>\n",
       "</table>\n",
       "</div>"
      ],
      "text/plain": [
       "       予測-陰性  予測-陽性\n",
       "真実-陰性     46      9\n",
       "真実-陽性      2     86"
      ]
     },
     "execution_count": 8,
     "metadata": {},
     "output_type": "execute_result"
    }
   ],
   "source": [
    "from sklearn.metrics import confusion_matrix\n",
    "df_confusion_matrix = pd.DataFrame(confusion_matrix(y_test, y_pred),\n",
    "                                   index=[\"真実-陰性\", \"真実-陽性\"],\n",
    "                                   columns=[\"予測-陰性\", \"予測-陽性\"])\n",
    "df_confusion_matrix"
   ]
  },
  {
   "cell_type": "markdown",
   "metadata": {},
   "source": [
    "### 正解率（Accuracy)"
   ]
  },
  {
   "cell_type": "markdown",
   "metadata": {},
   "source": [
    "正しく分類できた割合（偏りがある場合は、当てにならない）\n",
    "\n",
    "$$\n",
    "    正解率 = \\frac{TP + TN}{TP ＋TN ＋FP + FN}\n",
    "$$"
   ]
  },
  {
   "cell_type": "code",
   "execution_count": 9,
   "metadata": {
    "ExecuteTime": {
     "end_time": "2020-01-24T04:31:08.393323Z",
     "start_time": "2020-01-24T04:31:08.388322Z"
    }
   },
   "outputs": [
    {
     "data": {
      "text/plain": [
       "0.9230769230769231"
      ]
     },
     "execution_count": 9,
     "metadata": {},
     "output_type": "execute_result"
    }
   ],
   "source": [
    "from sklearn.metrics import accuracy_score\n",
    "\n",
    "accuracy_score(y_test, y_pred)"
   ]
  },
  {
   "cell_type": "code",
   "execution_count": 10,
   "metadata": {},
   "outputs": [
    {
     "data": {
      "text/html": [
       "<div>\n",
       "<style scoped>\n",
       "    .dataframe tbody tr th:only-of-type {\n",
       "        vertical-align: middle;\n",
       "    }\n",
       "\n",
       "    .dataframe tbody tr th {\n",
       "        vertical-align: top;\n",
       "    }\n",
       "\n",
       "    .dataframe thead th {\n",
       "        text-align: right;\n",
       "    }\n",
       "</style>\n",
       "<table border=\"1\" class=\"dataframe\">\n",
       "  <thead>\n",
       "    <tr style=\"text-align: right;\">\n",
       "      <th></th>\n",
       "      <th>予測-陰性</th>\n",
       "      <th>予測-陽性</th>\n",
       "    </tr>\n",
       "  </thead>\n",
       "  <tbody>\n",
       "    <tr>\n",
       "      <th>真実-陰性</th>\n",
       "      <td>46</td>\n",
       "      <td>9</td>\n",
       "    </tr>\n",
       "    <tr>\n",
       "      <th>真実-陽性</th>\n",
       "      <td>2</td>\n",
       "      <td>86</td>\n",
       "    </tr>\n",
       "  </tbody>\n",
       "</table>\n",
       "</div>"
      ],
      "text/plain": [
       "       予測-陰性  予測-陽性\n",
       "真実-陰性     46      9\n",
       "真実-陽性      2     86"
      ]
     },
     "execution_count": 10,
     "metadata": {},
     "output_type": "execute_result"
    }
   ],
   "source": [
    "df_confusion_matrix"
   ]
  },
  {
   "cell_type": "code",
   "execution_count": 11,
   "metadata": {
    "ExecuteTime": {
     "end_time": "2020-01-24T04:34:25.404641Z",
     "start_time": "2020-01-24T04:34:25.401639Z"
    }
   },
   "outputs": [
    {
     "data": {
      "text/plain": [
       "0.9440559440559441"
      ]
     },
     "execution_count": 11,
     "metadata": {},
     "output_type": "execute_result"
    }
   ],
   "source": [
    "(49 + 86) / (49 + 6 + 2 + 86)"
   ]
  },
  {
   "cell_type": "markdown",
   "metadata": {},
   "source": [
    "### 適合率（Precision）"
   ]
  },
  {
   "cell_type": "markdown",
   "metadata": {},
   "source": [
    "PPV(positive predictive value：陽性的中率)とも呼ばれ、予想の正確性を重視する指標であり、FP(偽陽性）を最小にする事が目的となる。  \n",
    "新薬の臨床試験結果などで重視される。（薬が効くと予想し、実際に効いていれば良い薬）\n",
    "\n",
    "$$\n",
    "    適合率 = \\frac{TP}{TP ＋ FP}\n",
    "$$"
   ]
  },
  {
   "cell_type": "code",
   "execution_count": 12,
   "metadata": {
    "ExecuteTime": {
     "end_time": "2020-01-24T04:37:20.287295Z",
     "start_time": "2020-01-24T04:37:20.283294Z"
    }
   },
   "outputs": [
    {
     "data": {
      "text/plain": [
       "0.9052631578947369"
      ]
     },
     "execution_count": 12,
     "metadata": {},
     "output_type": "execute_result"
    }
   ],
   "source": [
    "from sklearn.metrics import precision_score\n",
    "\n",
    "precision_score = precision_score(y_test, y_pred)\n",
    "precision_score"
   ]
  },
  {
   "cell_type": "code",
   "execution_count": 13,
   "metadata": {},
   "outputs": [
    {
     "data": {
      "text/html": [
       "<div>\n",
       "<style scoped>\n",
       "    .dataframe tbody tr th:only-of-type {\n",
       "        vertical-align: middle;\n",
       "    }\n",
       "\n",
       "    .dataframe tbody tr th {\n",
       "        vertical-align: top;\n",
       "    }\n",
       "\n",
       "    .dataframe thead th {\n",
       "        text-align: right;\n",
       "    }\n",
       "</style>\n",
       "<table border=\"1\" class=\"dataframe\">\n",
       "  <thead>\n",
       "    <tr style=\"text-align: right;\">\n",
       "      <th></th>\n",
       "      <th>予測-陰性</th>\n",
       "      <th>予測-陽性</th>\n",
       "    </tr>\n",
       "  </thead>\n",
       "  <tbody>\n",
       "    <tr>\n",
       "      <th>真実-陰性</th>\n",
       "      <td>46</td>\n",
       "      <td>9</td>\n",
       "    </tr>\n",
       "    <tr>\n",
       "      <th>真実-陽性</th>\n",
       "      <td>2</td>\n",
       "      <td>86</td>\n",
       "    </tr>\n",
       "  </tbody>\n",
       "</table>\n",
       "</div>"
      ],
      "text/plain": [
       "       予測-陰性  予測-陽性\n",
       "真実-陰性     46      9\n",
       "真実-陽性      2     86"
      ]
     },
     "execution_count": 13,
     "metadata": {},
     "output_type": "execute_result"
    }
   ],
   "source": [
    "df_confusion_matrix"
   ]
  },
  {
   "cell_type": "code",
   "execution_count": 14,
   "metadata": {
    "ExecuteTime": {
     "end_time": "2020-01-24T04:35:03.484717Z",
     "start_time": "2020-01-24T04:35:03.481725Z"
    }
   },
   "outputs": [
    {
     "data": {
      "text/plain": [
       "0.9347826086956522"
      ]
     },
     "execution_count": 14,
     "metadata": {},
     "output_type": "execute_result"
    }
   ],
   "source": [
    "86 / (6 + 86)"
   ]
  },
  {
   "cell_type": "markdown",
   "metadata": {},
   "source": [
    "### 再現率（recall）"
   ]
  },
  {
   "cell_type": "markdown",
   "metadata": {
    "ExecuteTime": {
     "end_time": "2020-01-24T00:51:23.400818Z",
     "start_time": "2020-01-24T00:51:23.395817Z"
    }
   },
   "source": [
    "真実の陽性サンプルに対して予測が高めたい場合の指標。FN（偽陰性）を最小する事が目的とになる。  \n",
    "即ち、分かりにくいものは基本的に陽性と判断したい場合の予想の正確性を図る指標。\n",
    "\n",
    "乳癌の例ででは、疑わしきものは陽性と判定するので、再現率を重視すれば発見漏れリスクが少なくなる\n",
    "\n",
    "$$\n",
    "    再現率 = \\frac{TP}{TP ＋ FN}\n",
    "$$"
   ]
  },
  {
   "cell_type": "code",
   "execution_count": 15,
   "metadata": {
    "ExecuteTime": {
     "end_time": "2020-01-24T05:51:58.802754Z",
     "start_time": "2020-01-24T05:51:58.797753Z"
    }
   },
   "outputs": [
    {
     "data": {
      "text/plain": [
       "0.9772727272727273"
      ]
     },
     "execution_count": 15,
     "metadata": {},
     "output_type": "execute_result"
    }
   ],
   "source": [
    "from sklearn.metrics import recall_score\n",
    "\n",
    "recall_score = recall_score(y_test, y_pred)\n",
    "recall_score"
   ]
  },
  {
   "cell_type": "code",
   "execution_count": 16,
   "metadata": {},
   "outputs": [
    {
     "data": {
      "text/html": [
       "<div>\n",
       "<style scoped>\n",
       "    .dataframe tbody tr th:only-of-type {\n",
       "        vertical-align: middle;\n",
       "    }\n",
       "\n",
       "    .dataframe tbody tr th {\n",
       "        vertical-align: top;\n",
       "    }\n",
       "\n",
       "    .dataframe thead th {\n",
       "        text-align: right;\n",
       "    }\n",
       "</style>\n",
       "<table border=\"1\" class=\"dataframe\">\n",
       "  <thead>\n",
       "    <tr style=\"text-align: right;\">\n",
       "      <th></th>\n",
       "      <th>予測-陰性</th>\n",
       "      <th>予測-陽性</th>\n",
       "    </tr>\n",
       "  </thead>\n",
       "  <tbody>\n",
       "    <tr>\n",
       "      <th>真実-陰性</th>\n",
       "      <td>46</td>\n",
       "      <td>9</td>\n",
       "    </tr>\n",
       "    <tr>\n",
       "      <th>真実-陽性</th>\n",
       "      <td>2</td>\n",
       "      <td>86</td>\n",
       "    </tr>\n",
       "  </tbody>\n",
       "</table>\n",
       "</div>"
      ],
      "text/plain": [
       "       予測-陰性  予測-陽性\n",
       "真実-陰性     46      9\n",
       "真実-陽性      2     86"
      ]
     },
     "execution_count": 16,
     "metadata": {},
     "output_type": "execute_result"
    }
   ],
   "source": [
    "df_confusion_matrix"
   ]
  },
  {
   "cell_type": "code",
   "execution_count": 17,
   "metadata": {
    "ExecuteTime": {
     "end_time": "2020-01-24T04:35:58.701497Z",
     "start_time": "2020-01-24T04:35:58.698496Z"
    }
   },
   "outputs": [
    {
     "data": {
      "text/plain": [
       "0.9772727272727273"
      ]
     },
     "execution_count": 17,
     "metadata": {},
     "output_type": "execute_result"
    }
   ],
   "source": [
    "86 / (2 + 86)"
   ]
  },
  {
   "cell_type": "markdown",
   "metadata": {},
   "source": [
    "再現率とはトレードオフの関係にある。  \n",
    "全てのサンプルを陽性と判断すれば FN=0となり再現率は100%になるが、一方で FPが大きくなる適合率は下がる為である。  \n",
    "逆の場合はイメージが付きにくいが下記の説明が分かりやすい。\n",
    "\n",
    "\n",
    "https://blog.amedama.jp/entry/2017/12/18/005311"
   ]
  },
  {
   "cell_type": "markdown",
   "metadata": {},
   "source": [
    "### F値（F-Measure）"
   ]
  },
  {
   "cell_type": "markdown",
   "metadata": {},
   "source": [
    "適合率と再現率はトレードオフの関係にある為、データの偏りと共に適合率、再現率の両方を気にしたい場合は、適合率と再現率の調和平均を使う。  \n",
    "（ｆ1-値とも呼ばれる）\n",
    "\n",
    "$$\n",
    "    F = 2 \\times \\frac{適合率\\times再現率}{適合率＋再現率}\n",
    "$$"
   ]
  },
  {
   "cell_type": "code",
   "execution_count": 18,
   "metadata": {
    "ExecuteTime": {
     "end_time": "2020-01-24T04:38:15.600137Z",
     "start_time": "2020-01-24T04:38:15.595135Z"
    }
   },
   "outputs": [
    {
     "data": {
      "text/plain": [
       "0.9398907103825138"
      ]
     },
     "execution_count": 18,
     "metadata": {},
     "output_type": "execute_result"
    }
   ],
   "source": [
    "from sklearn.metrics import f1_score\n",
    "\n",
    "f1 = f1_score(y_test, y_pred)\n",
    "f1"
   ]
  },
  {
   "cell_type": "code",
   "execution_count": 19,
   "metadata": {
    "ExecuteTime": {
     "end_time": "2020-01-24T04:38:19.782309Z",
     "start_time": "2020-01-24T04:38:19.778308Z"
    }
   },
   "outputs": [
    {
     "data": {
      "text/plain": [
       "0.9398907103825138"
      ]
     },
     "execution_count": 19,
     "metadata": {},
     "output_type": "execute_result"
    }
   ],
   "source": [
    "2 * (precision_score * recall_score) / (precision_score + recall_score)"
   ]
  },
  {
   "cell_type": "markdown",
   "metadata": {},
   "source": [
    "### 閾値の制御"
   ]
  },
  {
   "cell_type": "markdown",
   "metadata": {},
   "source": [
    "scikit-learnのクラス分類器の殆どは、  \n",
    "・**decision_function**  \n",
    "・**predict_proba**  \n",
    "関数が用意されている。\n",
    "\n",
    "decision_functionは予測の閾値を制御し、predict_probaは予測の確率が確認できる。  \n",
    "\n",
    "デフォルトでは  \n",
    "・decision_function：0  \n",
    "・predict_proba：0.5  \n",
    "である。\n",
    "\n",
    "\n",
    "predict_probaの場合、[陰性の確立、陽性の確率]となる。"
   ]
  },
  {
   "cell_type": "code",
   "execution_count": 20,
   "metadata": {
    "ExecuteTime": {
     "end_time": "2020-01-24T05:40:55.874631Z",
     "start_time": "2020-01-24T05:40:55.862628Z"
    }
   },
   "outputs": [
    {
     "data": {
      "text/plain": [
       "array([[0. , 1. ],\n",
       "       [0. , 1. ],\n",
       "       [0.1, 0.9],\n",
       "       [0. , 1. ],\n",
       "       [0. , 1. ]])"
      ]
     },
     "execution_count": 20,
     "metadata": {},
     "output_type": "execute_result"
    }
   ],
   "source": [
    "# randomForestにはdecision_functionない\n",
    "# clf.decision_function(X_test)\n",
    "\n",
    "# [陰性の確立、陽性の確率]\n",
    "clf.predict_proba(X_test)[:5]"
   ]
  },
  {
   "cell_type": "markdown",
   "metadata": {},
   "source": [
    "RrandomForestにはdecision_functionないが、下記のようにコーディングすることで確率の閾値を制御できる。  \n",
    "乳癌の例の場合、再現率を重視したいので、陽性への判定を緩くする。"
   ]
  },
  {
   "cell_type": "code",
   "execution_count": 21,
   "metadata": {},
   "outputs": [],
   "source": [
    "# 確率が0.5より小さいならば陰性と判断\n",
    "new_y_pred_1 = (clf.predict_proba(X_test)[:, 0] < 0.5).astype(int)"
   ]
  },
  {
   "cell_type": "code",
   "execution_count": 22,
   "metadata": {
    "ExecuteTime": {
     "end_time": "2020-01-24T05:57:48.875426Z",
     "start_time": "2020-01-24T05:57:48.838417Z"
    }
   },
   "outputs": [
    {
     "name": "stdout",
     "output_type": "stream",
     "text": [
      "0.9772727272727273\n",
      "0.9772727272727273\n",
      "0.9886363636363636\n",
      "1.0\n"
     ]
    }
   ],
   "source": [
    "# なぜかimportしないとダメ・・・\n",
    "from sklearn.metrics import recall_score\n",
    "\n",
    "# 確率が0.5ならば陰性と判断\n",
    "new_y_pred_1 = (clf.predict_proba(X_test)[:, 0] < 0.5).astype(int)\n",
    "new_y_pred_2 = (clf.predict_proba(X_test)[:, 0] < 0.6).astype(int)\n",
    "new_y_pred_3 = (clf.predict_proba(X_test)[:, 0] < 0.7).astype(int)\n",
    "new_y_pred_4 = (clf.predict_proba(X_test)[:, 0] < 0.8).astype(int)\n",
    "\n",
    "print(recall_score(y_test, new_y_pred_1))\n",
    "print(recall_score(y_test, new_y_pred_2))\n",
    "print(recall_score(y_test, new_y_pred_3))\n",
    "print(recall_score(y_test, new_y_pred_4))"
   ]
  },
  {
   "cell_type": "code",
   "execution_count": 23,
   "metadata": {},
   "outputs": [
    {
     "name": "stdout",
     "output_type": "stream",
     "text": [
      "### best_threshold =  0.7000000000000001\n"
     ]
    },
    {
     "data": {
      "image/png": "[encoded data removed]",
      "text/plain": [
       "<Figure size 432x288 with 1 Axes>"
      ]
     },
     "metadata": {
      "needs_background": "light"
     },
     "output_type": "display_data"
    }
   ],
   "source": [
    "_threshold = np.arange(0, 1, 0.01)\n",
    "_recall_score = []\n",
    "best_threshold = 0\n",
    "\n",
    "for p in _threshold:\n",
    "    p_pred = (clf.predict_proba(X_test)[:, 0] < p).astype(int)\n",
    "    score = recall_score(y_test, p_pred)\n",
    "\n",
    "    # recall=1.0となる最小閾値を決定    \n",
    "    if (score == 1.0 and best_threshold == 0):\n",
    "        best_threshold = p\n",
    "\n",
    "    _recall_score.append(score)\n",
    "\n",
    "print(\"### best_threshold = \", best_threshold)\n",
    "\n",
    "plt.plot(_threshold, _recall_score)\n",
    "\n",
    "plt.title('threshold-recall-score')\n",
    "plt.xlabel('threshold')\n",
    "plt.ylabel('recall_score')\n",
    "plt.grid(True)"
   ]
  },
  {
   "cell_type": "code",
   "execution_count": 24,
   "metadata": {
    "ExecuteTime": {
     "end_time": "2020-01-24T05:42:14.291874Z",
     "start_time": "2020-01-24T05:42:14.287873Z"
    }
   },
   "outputs": [
    {
     "data": {
      "text/html": [
       "<div>\n",
       "<style scoped>\n",
       "    .dataframe tbody tr th:only-of-type {\n",
       "        vertical-align: middle;\n",
       "    }\n",
       "\n",
       "    .dataframe tbody tr th {\n",
       "        vertical-align: top;\n",
       "    }\n",
       "\n",
       "    .dataframe thead th {\n",
       "        text-align: right;\n",
       "    }\n",
       "</style>\n",
       "<table border=\"1\" class=\"dataframe\">\n",
       "  <thead>\n",
       "    <tr style=\"text-align: right;\">\n",
       "      <th></th>\n",
       "      <th>予測-陰性</th>\n",
       "      <th>予測-陽性</th>\n",
       "    </tr>\n",
       "  </thead>\n",
       "  <tbody>\n",
       "    <tr>\n",
       "      <th>真実-陰性</th>\n",
       "      <td>46</td>\n",
       "      <td>9</td>\n",
       "    </tr>\n",
       "    <tr>\n",
       "      <th>真実-陽性</th>\n",
       "      <td>2</td>\n",
       "      <td>86</td>\n",
       "    </tr>\n",
       "  </tbody>\n",
       "</table>\n",
       "</div>"
      ],
      "text/plain": [
       "       予測-陰性  予測-陽性\n",
       "真実-陰性     46      9\n",
       "真実-陽性      2     86"
      ]
     },
     "execution_count": 24,
     "metadata": {},
     "output_type": "execute_result"
    }
   ],
   "source": [
    "# 閾値変更前\n",
    "df_confusion_matrix"
   ]
  },
  {
   "cell_type": "code",
   "execution_count": 25,
   "metadata": {
    "ExecuteTime": {
     "end_time": "2020-01-24T07:13:43.603196Z",
     "start_time": "2020-01-24T07:13:43.597194Z"
    }
   },
   "outputs": [
    {
     "data": {
      "text/html": [
       "<div>\n",
       "<style scoped>\n",
       "    .dataframe tbody tr th:only-of-type {\n",
       "        vertical-align: middle;\n",
       "    }\n",
       "\n",
       "    .dataframe tbody tr th {\n",
       "        vertical-align: top;\n",
       "    }\n",
       "\n",
       "    .dataframe thead th {\n",
       "        text-align: right;\n",
       "    }\n",
       "</style>\n",
       "<table border=\"1\" class=\"dataframe\">\n",
       "  <thead>\n",
       "    <tr style=\"text-align: right;\">\n",
       "      <th></th>\n",
       "      <th>予測-陰性</th>\n",
       "      <th>予測-陽性</th>\n",
       "    </tr>\n",
       "  </thead>\n",
       "  <tbody>\n",
       "    <tr>\n",
       "      <th>真実-陰性</th>\n",
       "      <td>43</td>\n",
       "      <td>12</td>\n",
       "    </tr>\n",
       "    <tr>\n",
       "      <th>真実-陽性</th>\n",
       "      <td>1</td>\n",
       "      <td>87</td>\n",
       "    </tr>\n",
       "  </tbody>\n",
       "</table>\n",
       "</div>"
      ],
      "text/plain": [
       "       予測-陰性  予測-陽性\n",
       "真実-陰性     43     12\n",
       "真実-陽性      1     87"
      ]
     },
     "execution_count": 25,
     "metadata": {},
     "output_type": "execute_result"
    }
   ],
   "source": [
    "# 閾値変更後\n",
    "pd.DataFrame(confusion_matrix(y_test, new_y_pred_3),\n",
    "             index=[\"真実-陰性\", \"真実-陽性\"],\n",
    "             columns=[\"予測-陰性\", \"予測-陽性\"])"
   ]
  },
  {
   "cell_type": "markdown",
   "metadata": {},
   "source": [
    "RandomForestにはdecision_functionがない為（class_weightパラメータで制御？）SVMで試してみる。\n",
    "\n",
    "２値クラスの場合、境界に位置するごく一部の訓練データのみが決定境界を決定する。  \n",
    "これらのデータを**サポートベクタ**と呼ぶ。\n",
    "\n",
    "SVMの主要パラメータはCとgamma\n",
    "- C：線形モデルと同様に、小さい程個々のサンプルが与える影響力を弱くする。\n",
    "- ganma：小さい程ガウシアンカーネルの直径が大きくなり、多くの点を近いと判断する"
   ]
  },
  {
   "cell_type": "code",
   "execution_count": 26,
   "metadata": {
    "ExecuteTime": {
     "end_time": "2020-01-24T05:32:58.580310Z",
     "start_time": "2020-01-24T05:32:58.575309Z"
    }
   },
   "outputs": [
    {
     "data": {
      "text/plain": [
       "SVC(C=10, cache_size=200, class_weight=None, coef0=0.0,\n",
       "    decision_function_shape='ovr', degree=3, gamma=0.1, kernel='rbf',\n",
       "    max_iter=-1, probability=False, random_state=None, shrinking=True,\n",
       "    tol=0.001, verbose=False)"
      ]
     },
     "execution_count": 26,
     "metadata": {},
     "output_type": "execute_result"
    }
   ],
   "source": [
    "from sklearn.svm import SVC\n",
    "\n",
    "# kernel=rgb（radical basis function:放射基底関数）\n",
    "svc = SVC(kernel='rbf', C=10, gamma=0.1)\n",
    "svc"
   ]
  },
  {
   "cell_type": "markdown",
   "metadata": {},
   "source": [
    "SVMはスケールに対して非常に敏感なので、スケール変換をしてやる  \n",
    "SVMでは標準化(StandardScaler)よりも、正規化（MinMaxScaler）の方が精度が良くなる傾向あり"
   ]
  },
  {
   "cell_type": "code",
   "execution_count": 27,
   "metadata": {},
   "outputs": [
    {
     "data": {
      "text/plain": [
       "SVC(C=10, cache_size=200, class_weight=None, coef0=0.0,\n",
       "    decision_function_shape='ovr', degree=3, gamma=0.1, kernel='rbf',\n",
       "    max_iter=-1, probability=False, random_state=None, shrinking=True,\n",
       "    tol=0.001, verbose=False)"
      ]
     },
     "execution_count": 27,
     "metadata": {},
     "output_type": "execute_result"
    }
   ],
   "source": [
    "from sklearn.preprocessing import MinMaxScaler\n",
    "\n",
    "# 正規化\n",
    "scaler = MinMaxScaler()\n",
    "\n",
    "X_train_scaled = scaler.fit_transform(X_train)\n",
    "svc.fit(X_train_scaled, y_train)"
   ]
  },
  {
   "cell_type": "code",
   "execution_count": 28,
   "metadata": {
    "ExecuteTime": {
     "end_time": "2020-01-24T05:41:12.156459Z",
     "start_time": "2020-01-24T05:41:12.150457Z"
    }
   },
   "outputs": [
    {
     "data": {
      "text/html": [
       "<div>\n",
       "<style scoped>\n",
       "    .dataframe tbody tr th:only-of-type {\n",
       "        vertical-align: middle;\n",
       "    }\n",
       "\n",
       "    .dataframe tbody tr th {\n",
       "        vertical-align: top;\n",
       "    }\n",
       "\n",
       "    .dataframe thead th {\n",
       "        text-align: right;\n",
       "    }\n",
       "</style>\n",
       "<table border=\"1\" class=\"dataframe\">\n",
       "  <thead>\n",
       "    <tr style=\"text-align: right;\">\n",
       "      <th></th>\n",
       "      <th>予測-陰性</th>\n",
       "      <th>予測-陽性</th>\n",
       "    </tr>\n",
       "  </thead>\n",
       "  <tbody>\n",
       "    <tr>\n",
       "      <th>真実-陰性</th>\n",
       "      <td>50</td>\n",
       "      <td>5</td>\n",
       "    </tr>\n",
       "    <tr>\n",
       "      <th>真実-陽性</th>\n",
       "      <td>1</td>\n",
       "      <td>87</td>\n",
       "    </tr>\n",
       "  </tbody>\n",
       "</table>\n",
       "</div>"
      ],
      "text/plain": [
       "       予測-陰性  予測-陽性\n",
       "真実-陰性     50      5\n",
       "真実-陽性      1     87"
      ]
     },
     "execution_count": 28,
     "metadata": {},
     "output_type": "execute_result"
    }
   ],
   "source": [
    "svc_pred = svc.predict(scaler.fit_transform(X_test))\n",
    "\n",
    "df_confusion_matrix_svc = pd.DataFrame(confusion_matrix(y_test, svc_pred),\n",
    "                                   index=[\"真実-陰性\", \"真実-陽性\"],\n",
    "                                   columns=[\"予測-陰性\", \"予測-陽性\"])\n",
    "\n",
    "df_confusion_matrix_svc"
   ]
  },
  {
   "cell_type": "markdown",
   "metadata": {},
   "source": [
    "decision_functionは、分離超平面からの符号付き距離を返す  \n",
    "正が陽性の確信度、負が陰性の確信度であり、超平面から遠ければ遠いほど、確信度が上がる"
   ]
  },
  {
   "cell_type": "code",
   "execution_count": 29,
   "metadata": {},
   "outputs": [
    {
     "data": {
      "text/plain": [
       "array([ 3.30746098, -1.86854228,  5.25067211, -5.91461654, -1.61722622])"
      ]
     },
     "execution_count": 29,
     "metadata": {},
     "output_type": "execute_result"
    }
   ],
   "source": [
    "svc.decision_function(scaler.fit_transform(X_test))[-5:]"
   ]
  },
  {
   "cell_type": "markdown",
   "metadata": {},
   "source": [
    "### ROC曲線（Receiver Operating Characteristic）とAUC（Area Under the Curve）"
   ]
  },
  {
   "cell_type": "markdown",
   "metadata": {},
   "source": [
    "陽性サンプルの中で本当に陽性だった割合をTP率\n",
    "$$\n",
    "    TP率 = \\frac{TP}{TP+FN}\n",
    "$$\n",
    "\n",
    "陰性サンプルの中で間違って陽性とだ判定した割合をFP率\n",
    "\n",
    "$$\n",
    "    FP率 = \\frac{FP}{TN＋FP}\n",
    "$$\n",
    "\n",
    "とする。  \n",
    "ROC曲線とは閾値ρを変更した際の(FP率, TP率）を2次元にプロットした曲線  \n",
    "\n",
    "例）赤：陽性、緑：陰性 の場合\n",
    "\n",
    "![閾値設定](https://mathwords.net/wp-content/uploads/2019/01/auc3-300x176.png)\n",
    "\n",
    "閾値ρ=0.75  とすると、本当に陽性のもの（AとB）の中で正しく陽性とみなせたもの（A）の割合は、TP率＝1/2。    \n",
    "一方、本当に陰性のもの（C、D、E、F）の中で間違って陽性とみなしたもの（C）の割合は、FP率＝1/4 。\n",
    "\n",
    "ρ=0.75の時の（FP率,TP率）＝(1/4,1/2) をプロット\n",
    "\n",
    "![ROC曲線](https://mathwords.net/wp-content/uploads/2019/01/auc4-300x199.png)\n",
    "\n",
    "![混合行列](https://techblog.gmo-ap.jp/wp-content/uploads/2018/09/Screen-Shot-2018-09-11-at-20.29.58.png)\n",
    "閾値ρ＝1とは全て陰性と見なす事であり、TP＝FP＝0 となる為、（TP率、FP率）＝ (0,0) となる。  \n",
    "閾値ρ＝0とは全て陽性と見なす事であり、FP＝TN＝0 となる為、（TP率、FP率）＝（1,1）となる。  \n",
    "TP率が上がればFP率も上がる関係になるのは上図が分かりやすい。\n",
    "\n",
    "予測で最も望ましい状態は、TP率が高くて、FP率が低い事。  \n",
    "（陽性と陰性のそれぞれの予測分布が離れている状態）  \n",
    "\n",
    "その為には、閾値ρが低い段階でTP率が上がり切る事であり、AUC(Area Under the Curve) はROC曲線の下の面積の事で、面積が大きいほど予測精度が良い事を意味する。\n",
    "\n",
    "![AUC](https://mathwords.net/wp-content/uploads/2019/01/auc5-300x203.png)"
   ]
  },
  {
   "cell_type": "code",
   "execution_count": 30,
   "metadata": {},
   "outputs": [
    {
     "data": {
      "image/png": "[encoded data removed]",
      "text/plain": [
       "<Figure size 432x288 with 1 Axes>"
      ]
     },
     "metadata": {
      "needs_background": "light"
     },
     "output_type": "display_data"
    }
   ],
   "source": [
    "from sklearn.metrics import auc, roc_curve\n",
    "\n",
    "# FPR, TPR(, しきい値) を算出\n",
    "fpr, tpr, thresholds = roc_curve(y_test, clf.predict_proba(X_test)[:, 1] )\n",
    "\n",
    "# AUCも\n",
    "auc = auc(fpr, tpr)\n",
    "\n",
    "# ROC曲線をプロット\n",
    "plt.plot(fpr, tpr, label='ROC curve (area = %.2f)'%auc)\n",
    "plt.legend()\n",
    "plt.title('ROC curve')\n",
    "plt.xlabel('False Positive Rate')\n",
    "plt.ylabel('True Positive Rate')\n",
    "plt.grid(True)"
   ]
  },
  {
   "cell_type": "markdown",
   "metadata": {},
   "source": [
    "### Log Loss（Logarithmic Loss：ログ損失）"
   ]
  },
  {
   "cell_type": "markdown",
   "metadata": {},
   "source": [
    "F値やAUCが同じでも確信度が高い（自信を持って陽性・陰性と判断している）方が良いモデル  \n",
    "予測された確率とその結果の乖離を交差エントロピーの最小化を利用して確信度を測る指標  \n",
    "\n",
    "- y:予測値（０ or 1）  \n",
    "- p:予測確率\n",
    "\n",
    "とすると、交差エントロピーは\n",
    "$$ \n",
    "    −(ylogp+(1−y)log(1−p)) \n",
    "$$\n",
    "\n",
    "であり、log lossは、サンプル中の全ての交差エントロピーの平均を取ることによって計算される。\n",
    "\n",
    "$$\n",
    "-\\frac{1}{N} \\sum_{i=1}^N((y_i {\\log} p_i+(1-y_i){\\log}(1-p_i))\n",
    "$$\n",
    "\n",
    "log lossはモデルが良い程、値が０になる。"
   ]
  },
  {
   "cell_type": "code",
   "execution_count": 31,
   "metadata": {},
   "outputs": [
    {
     "data": {
      "text/plain": [
       "2.6568792777684567"
      ]
     },
     "execution_count": 31,
     "metadata": {},
     "output_type": "execute_result"
    }
   ],
   "source": [
    "from sklearn.metrics import log_loss\n",
    "\n",
    "log_loss(y_test, y_pred)"
   ]
  },
  {
   "cell_type": "markdown",
   "metadata": {},
   "source": [
    "## LightGBMによる精度向上"
   ]
  },
  {
   "cell_type": "markdown",
   "metadata": {},
   "source": [
    "[LightGBM](https://lightgbm.readthedocs.io/en/latest/pythonapi/lightgbm.LGBMClassifier.html)にてモデル精度を比較してみる"
   ]
  },
  {
   "cell_type": "code",
   "execution_count": 32,
   "metadata": {},
   "outputs": [
    {
     "data": {
      "text/plain": [
       "LGBMClassifier(boosting_type='gbdt', class_weight=None, colsample_bytree=1.0,\n",
       "               importance_type='split', learning_rate=0.1, max_depth=-1,\n",
       "               min_child_samples=20, min_child_weight=0.001, min_split_gain=0.0,\n",
       "               n_estimators=100, n_jobs=-1, num_leaves=31, objective=None,\n",
       "               random_state=None, reg_alpha=0.0, reg_lambda=0.0, silent=True,\n",
       "               subsample=1.0, subsample_for_bin=200000, subsample_freq=0)"
      ]
     },
     "execution_count": 32,
     "metadata": {},
     "output_type": "execute_result"
    }
   ],
   "source": [
    "import lightgbm as lgb\n",
    "\n",
    "lgb_cls = lgb.LGBMClassifier()\n",
    "lgb_cls"
   ]
  },
  {
   "cell_type": "code",
   "execution_count": 33,
   "metadata": {},
   "outputs": [
    {
     "name": "stdout",
     "output_type": "stream",
     "text": [
      "Fitting 5 folds for each of 12 candidates, totalling 60 fits\n"
     ]
    },
    {
     "name": "stderr",
     "output_type": "stream",
     "text": [
      "[Parallel(n_jobs=-1)]: Using backend LokyBackend with 4 concurrent workers.\n",
      "[Parallel(n_jobs=-1)]: Done  33 tasks      | elapsed:    3.5s\n"
     ]
    },
    {
     "name": "stdout",
     "output_type": "stream",
     "text": [
      "### best parameters {'max_depth': -1, 'num_leaves': 31}\n",
      "### best f1 score: 0.9739861191622604\n"
     ]
    },
    {
     "name": "stderr",
     "output_type": "stream",
     "text": [
      "[Parallel(n_jobs=-1)]: Done  60 out of  60 | elapsed:    5.0s finished\n"
     ]
    }
   ],
   "source": [
    "from sklearn.model_selection import GridSearchCV\n",
    "\n",
    "params = {\n",
    "    'num_leaves': [10, 31, 50],\n",
    "    'max_depth': [-1, 3, 5, 10]\n",
    "}\n",
    "\n",
    "# grid searching\n",
    "gscv = GridSearchCV(\n",
    "    estimator=lgb_cls,\n",
    "    param_grid=params,\n",
    "    scoring='f1',\n",
    "    cv=5,\n",
    "    n_jobs=-1,\n",
    "    verbose=2,\n",
    ")\n",
    "gscv.fit(X_train, y_train)\n",
    "\n",
    "# print results\n",
    "print('### best parameters', gscv.best_params_)\n",
    "print('### best f1 score:', gscv.best_score_)"
   ]
  },
  {
   "cell_type": "markdown",
   "metadata": {},
   "source": [
    "結局、デフォルトが一番良かった"
   ]
  },
  {
   "cell_type": "code",
   "execution_count": 34,
   "metadata": {},
   "outputs": [
    {
     "name": "stdout",
     "output_type": "stream",
     "text": [
      "### f1 score =0.9565217391304348\n",
      "### log loss =1.9322839715994902\n"
     ]
    }
   ],
   "source": [
    "from sklearn.metrics import f1_score, log_loss\n",
    "\n",
    "lgb_cls_pred = gscv.best_estimator_.predict(X_test)\n",
    "print(\"### f1 score ={}\".format(f1_score(y_test, lgb_cls_pred)))\n",
    "print(\"### log loss ={}\".format(log_loss(y_test, lgb_cls_pred)))"
   ]
  },
  {
   "cell_type": "markdown",
   "metadata": {},
   "source": [
    "F値、Log LossともRandomForestよりちょっとだけ良い。"
   ]
  },
  {
   "cell_type": "markdown",
   "metadata": {},
   "source": [
    "## scikit-learnの便利機能"
   ]
  },
  {
   "cell_type": "markdown",
   "metadata": {},
   "source": [
    " scikit-learnには、適合率、再現率、F値を一括で出力してくれる **classification_report**関数がある。  \n",
    " 戻り値がstringなのでが、DataFrameに変換はできない。  \n",
    " \n",
    " **陽性**行が上述の適合率、再現率、F値となる。（supportはそのクラスのサンプル数）"
   ]
  },
  {
   "cell_type": "code",
   "execution_count": 35,
   "metadata": {
    "ExecuteTime": {
     "end_time": "2020-01-24T05:29:54.078927Z",
     "start_time": "2020-01-24T05:29:54.070925Z"
    }
   },
   "outputs": [
    {
     "name": "stdout",
     "output_type": "stream",
     "text": [
      "              precision    recall  f1-score   support\n",
      "\n",
      "          陰性       0.96      0.84      0.89        55\n",
      "          陽性       0.91      0.98      0.94        88\n",
      "\n",
      "    accuracy                           0.92       143\n",
      "   macro avg       0.93      0.91      0.92       143\n",
      "weighted avg       0.93      0.92      0.92       143\n",
      "\n"
     ]
    },
    {
     "data": {
      "text/html": [
       "<div>\n",
       "<style scoped>\n",
       "    .dataframe tbody tr th:only-of-type {\n",
       "        vertical-align: middle;\n",
       "    }\n",
       "\n",
       "    .dataframe tbody tr th {\n",
       "        vertical-align: top;\n",
       "    }\n",
       "\n",
       "    .dataframe thead th {\n",
       "        text-align: right;\n",
       "    }\n",
       "</style>\n",
       "<table border=\"1\" class=\"dataframe\">\n",
       "  <thead>\n",
       "    <tr style=\"text-align: right;\">\n",
       "      <th></th>\n",
       "      <th>予測-陰性</th>\n",
       "      <th>予測-陽性</th>\n",
       "    </tr>\n",
       "  </thead>\n",
       "  <tbody>\n",
       "    <tr>\n",
       "      <th>真実-陰性</th>\n",
       "      <td>46</td>\n",
       "      <td>9</td>\n",
       "    </tr>\n",
       "    <tr>\n",
       "      <th>真実-陽性</th>\n",
       "      <td>2</td>\n",
       "      <td>86</td>\n",
       "    </tr>\n",
       "  </tbody>\n",
       "</table>\n",
       "</div>"
      ],
      "text/plain": [
       "       予測-陰性  予測-陽性\n",
       "真実-陰性     46      9\n",
       "真実-陽性      2     86"
      ]
     },
     "execution_count": 35,
     "metadata": {},
     "output_type": "execute_result"
    }
   ],
   "source": [
    "from sklearn.metrics import classification_report\n",
    "\n",
    "print(classification_report(y_test, y_pred, target_names=[\"陰性\", \"陽性\"]))\n",
    "\n",
    "df_confusion_matrix"
   ]
  }
 ],
 "metadata": {
  "kernelspec": {
   "display_name": "Python 3",
   "language": "python",
   "name": "python3"
  },
  "language_info": {
   "codemirror_mode": {
    "name": "ipython",
    "version": 3
   },
   "file_extension": ".py",
   "mimetype": "text/x-python",
   "name": "python",
   "nbconvert_exporter": "python",
   "pygments_lexer": "ipython3",
   "version": "3.7.4"
  },
  "toc": {
   "base_numbering": 1,
   "nav_menu": {},
   "number_sections": true,
   "sideBar": true,
   "skip_h1_title": true,
   "title_cell": "目次",
   "title_sidebar": "Contents",
   "toc_cell": true,
   "toc_position": {},
   "toc_section_display": true,
   "toc_window_display": true
  },
  "varInspector": {
   "cols": {
    "lenName": 16,
    "lenType": 16,
    "lenVar": 40
   },
   "kernels_config": {
    "python": {
     "delete_cmd_postfix": "",
     "delete_cmd_prefix": "del ",
     "library": "var_list.py",
     "varRefreshCmd": "print(var_dic_list())"
    },
    "r": {
     "delete_cmd_postfix": ") ",
     "delete_cmd_prefix": "rm(",
     "library": "var_list.r",
     "varRefreshCmd": "cat(var_dic_list()) "
    }
   },
   "types_to_exclude": [
    "module",
    "function",
    "builtin_function_or_method",
    "instance",
    "_Feature"
   ],
   "window_display": false
  }
 },
 "nbformat": 4,
 "nbformat_minor": 2
}
