{
 "cells": [
  {
   "cell_type": "markdown",
   "metadata": {},
   "source": [
    "#  Python For Data Analysis \n",
    "## 第1章 はじめに\n",
    "\n",
    "### 1.1 この本で説明する内容  \n",
    "### 1.2 なぜpythonはデータ分析者におすすめなのか  \n",
    "### 1.3 本書で扱う重要なpythonライブラリ  \n",
    "### 1.4 インストールとセットップ  \n",
    "### 1.5 コミュニティとカンファレンス  \n",
    "### 1.6 この本の読み方案内  "
   ]
  },
  {
   "cell_type": "markdown",
   "metadata": {},
   "source": [
    "### 1.1 この本で説明する内容"
   ]
  },
  {
   "cell_type": "markdown",
   "metadata": {},
   "source": [
    "pythoによるデータの操作、処理、クリーニング、高速処理"
   ]
  },
  {
   "cell_type": "markdown",
   "metadata": {},
   "source": [
    "### 1.2 なぜpythonはデータ分析者におすすめなのか  "
   ]
  },
  {
   "cell_type": "markdown",
   "metadata": {},
   "source": [
    "- 大きく活発な科学計算コミュニティを持っている。\n",
    "- 近年、ライブラリ（pandas,numpyなど）のサポートの改善が著しい。\n",
    "- 実装まで使用できるスクリプト言語であるので、例えばRのように実装では別のプログラム言語を使うといった必要がない。"
   ]
  },
  {
   "cell_type": "markdown",
   "metadata": {},
   "source": [
    "### 1.3 本書で扱う重要なpythonライブラリ  "
   ]
  },
  {
   "cell_type": "markdown",
   "metadata": {},
   "source": [
    "##### 1.3.1 numpy"
   ]
  },
  {
   "cell_type": "markdown",
   "metadata": {},
   "source": [
    "- numerical pythonの略\n",
    "- numpyが提供する機能\n",
    "  - 高速かつ効果的な多次元配列オブジェクト「ndarray」\n",
    "  - 複数の配列における要素レベルの計算や、配列間の数学的演算を行う関数\n",
    "  - 配列ベースのデータセットをディスクに読み書きするツール\n",
    "  - 線形代数演算、フーリエ変換、乱数のの生成\n",
    "  - C,C++,FORTRANのコードとpythonを統合するツール"
   ]
  },
  {
   "cell_type": "markdown",
   "metadata": {},
   "source": [
    "##### 1.3.2 pandas"
   ]
  },
  {
   "cell_type": "markdown",
   "metadata": {},
   "source": [
    "- データフレーム（dataframe）を提供\n",
    "- 構造化されたデータを素早く簡単に取り扱うこと可能\n",
    "- pandasが提供する機能\n",
    "  - データの再形成、スライス、ダイシング、集約、部分集合の選択\n",
    "  - インデックス付け\n",
    "  - 時系列分析機能（金融分野では必須の機能）"
   ]
  },
  {
   "cell_type": "markdown",
   "metadata": {},
   "source": [
    "##### 1.3.3 matplotlib"
   ]
  },
  {
   "cell_type": "markdown",
   "metadata": {},
   "source": [
    "- データの可視化"
   ]
  },
  {
   "cell_type": "markdown",
   "metadata": {},
   "source": [
    "##### 1.3.4 ipython"
   ]
  },
  {
   "cell_type": "markdown",
   "metadata": {},
   "source": [
    "- 現jupyternotebook\n",
    "- pythonのコードの記述・実行、テスト、デバッグが可能\n",
    "- mathmatica風のHTMLノートブック\n",
    "  - インラインのグラフ描画、複数行の編集、文法のハイライトが可能"
   ]
  },
  {
   "cell_type": "markdown",
   "metadata": {},
   "source": [
    "##### 1.3.5 scipy"
   ]
  },
  {
   "cell_type": "markdown",
   "metadata": {},
   "source": [
    "- 科学計算の領域における様々な一般的問題に取り組めるパッケージ群（下記パッケージ例）\n",
    "  - scipy.optimize : 関数の最適化\n",
    "  - scipy.stats : 標準的な連続分布や離散分布（密度関数、サンプラー、連続分布関数）、さまざまな統計検定、そのほかの記述統計"
   ]
  },
  {
   "cell_type": "markdown",
   "metadata": {},
   "source": [
    "### 1.4 インストールとセットップ  "
   ]
  },
  {
   "cell_type": "markdown",
   "metadata": {},
   "source": [
    "ディストリビューションでのセットアップ方法を各OS（windows,apple,GNU/linux）ごとに紹介  \n",
    "※内容は割愛"
   ]
  },
  {
   "cell_type": "markdown",
   "metadata": {},
   "source": [
    "### 1.5 コミュニティとカンファレンス  "
   ]
  },
  {
   "cell_type": "markdown",
   "metadata": {},
   "source": [
    "科学思考のメーリングリストが存在\n",
    "- pydata : Google groupによる、pythonのデータ分析やpandasに関する質問用のメーリングリスト\n",
    "- pystatsmodels : statsmodelsやpandasに関連する質問\n",
    "- numpy-discussion : numpyに関連する質問\n",
    "- scipy-users : scipyやpythonに関する一般的な質問"
   ]
  },
  {
   "cell_type": "markdown",
   "metadata": {},
   "source": [
    "### 1.6 この本の読み方案内  "
   ]
  },
  {
   "cell_type": "markdown",
   "metadata": {},
   "source": [
    "- 各章で用いるデータはGitHubのリポジトリで配布  \n",
    "http://github.com/pydata/pydata-book\n",
    "- インポートの際のモジュールの命名規則があります。下記参考例。\n",
    "  - import numpy as np\n",
    "  - import pandas as pd\n",
    "  - import matplotlib.pyplot as plt"
   ]
  },
  {
   "cell_type": "markdown",
   "metadata": {},
   "source": [
    "- 専門用語（jargon）の定義　※プログラミング、データサイエンスで聞きなれない言葉。\n",
    "  - 改変、変更、処理、管理（munge/munging/wrangling）\n",
    "    - 構造化されていなかったり、乱雑なデータを構造化されたきれいな形式に操作するプロセス全体のこと。\n",
    "  - 類似コード\n",
    "    - アルゴリズムやプロセスを説明するために、実際に正しく動くソースコードではないものの、ソースコードに似た形式で示して説明するもの。\n",
    "  - シンタックスシュガー\n",
    "    - 新機能を追加する訳ではないが、入力を楽にしたり便利にするようなプログラミング言語の文法のこと。"
   ]
  }
 ],
 "metadata": {
  "kernelspec": {
   "display_name": "Python 3",
   "language": "python",
   "name": "python3"
  },
  "language_info": {
   "codemirror_mode": {
    "name": "ipython",
    "version": 3
   },
   "file_extension": ".py",
   "mimetype": "text/x-python",
   "name": "python",
   "nbconvert_exporter": "python",
   "pygments_lexer": "ipython3",
   "version": "3.6.4"
  },
  "toc": {
   "base_numbering": 1,
   "nav_menu": {},
   "number_sections": true,
   "sideBar": true,
   "skip_h1_title": false,
   "title_cell": "Table of Contents",
   "title_sidebar": "Contents",
   "toc_cell": false,
   "toc_position": {},
   "toc_section_display": true,
   "toc_window_display": false
  }
 },
 "nbformat": 4,
 "nbformat_minor": 2
}
