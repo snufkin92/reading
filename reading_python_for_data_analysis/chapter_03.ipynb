{
 "cells": [
  {
   "cell_type": "markdown",
   "metadata": {},
   "source": [
    "# 3章 Python 組み込みのデータ構造と 関数、ファイルの扱い\n",
    "\n",
    "クラスやモジュール等の解説はなく、`pandas` や `Numpy` を扱うにあたって必要なPythonの標準機能について解説している章。\n",
    "\n",
    "\n",
    "## 3.1 データ構造とシーケンス\n",
    " \n",
    "### タプル\n",
    "p55\n",
    "- タプルは基本的に要素を変更する事ができないリスト\n",
    "\n",
    "p56\n",
    "- 要素が変更可能なオブジェクト(リストやディクショナリー等）の場合は、中身を変更することは可能。    \n",
    "（そういう使い方もできるが、本来の役割ではない）\n",
    "- タプルの要素は `[ ]` で参照できる。\n",
    "\n",
    "p57\n",
    "- 変数分解の一般的な用途はシーケンスの反復処理\n",
    "\n",
    "p58\n",
    "- 変数分解時、関数の位置引数のような指定の仕方が可能\n"
   ]
  },
  {
   "cell_type": "code",
   "execution_count": 1,
   "metadata": {
    "code_folding": []
   },
   "outputs": [
    {
     "name": "stdout",
     "output_type": "stream",
     "text": [
      "tup = (4, 5, 6) : <class 'tuple'>\n",
      "tup2 = 4, 5, 6 : <class 'tuple'>\n",
      "\n",
      "### 大括弧で参照可能\n",
      "tup[1] = 5\n",
      "\n",
      "### 要素の変更は基本的にNG\n",
      "例外発生\n",
      "エラーメッセージ：(\"'tuple' object does not support item assignment\",)\n",
      "\n",
      "### 値を変更できるパターン(リストの要素は先行可能)\n",
      "tup3 = (4, [5, 6], 7) : <class 'tuple'>\n",
      "tup3[1][0] = 'a'\n",
      "例外は発生しませんでした。\n",
      "tup3 = (4, ['a', 6], 7)\n",
      "\n",
      "### 変数分解によるシーケンスの反復処理)\n",
      "a=1, b=2, c=3\n",
      "\n",
      "a=4, b=5, c=6\n",
      "\n",
      "a=7, b=8, c=9\n",
      "\n",
      "valuea = (1, 2, 3, 4, 5)\n",
      "a, b, *rest = values\n",
      "a, b = (1, 2)\n",
      "rest = [3, 4, 5]\n"
     ]
    }
   ],
   "source": [
    "# タプルの作成(どちらもOK)\n",
    "tup = (4, 5, 6)\n",
    "tup2 = 4, 5, 6\n",
    "print(\"tup = (4, 5, 6) : {}\".format(type(tup)))\n",
    "print(\"tup2 = 4, 5, 6 : {}\\n\".format(type(tup2)))\n",
    "\n",
    "# 大括弧で参照可能\n",
    "print(\"### 大括弧で参照可能\\ntup[1] = {}\\n\".format(tup[1]))\n",
    "\n",
    "# 要素の変更は基本的にNG\n",
    "print(\"### 要素の変更は基本的にNG\")\n",
    "try:\n",
    "    tup[0] = 'a'\n",
    "except Exception as e:\n",
    "    print(\"例外発生\\nエラーメッセージ：{}\\n\".format(e.args))\n",
    "else:\n",
    "    print(\"例外は発生しませんでした。\")\n",
    "\n",
    "# 値を変更できるパターン\n",
    "print(\"### 値を変更できるパターン(リストの要素は先行可能)\")\n",
    "tup3 = (4, [5, 6], 7)\n",
    "print(\"tup3 = (4, [5, 6], 7) : {}\".format(type(tup3)))\n",
    "\n",
    "try:\n",
    "    print(\"tup3[1][0] = 'a'\")\n",
    "    tup3[1][0] = 'a'\n",
    "except Exception as e:\n",
    "    print(\"例外発生\\nエラーメッセージ：{}\".format(e.args))\n",
    "else:\n",
    "    print(\"例外は発生しませんでした。\")\n",
    "    print(\"tup3 = {}\\n\".format(tup3))\n",
    "\n",
    "print(\"### 変数分解によるシーケンスの反復処理)\")\n",
    "seq = [(1, 2, 3), (4, 5, 6), (7, 8, 9)]\n",
    "for a, b, c in seq:\n",
    "    print('a={0}, b={1}, c={2}\\n'.format(a, b, c))\n",
    "\n",
    "values = 1, 2, 3, 4, 5,\n",
    "a, b, *rest = values\n",
    "print(\"valuea = {}\".format(values))\n",
    "print(\"a, b, *rest = values\\na, b = {}\".format((a, b)))\n",
    "print(\"rest = {}\".format(rest))"
   ]
  },
  {
   "cell_type": "markdown",
   "metadata": {},
   "source": [
    "### リスト\n",
    "p59\n",
    "- リストの要素は変更可能。\n",
    "- リストの定義は `[ ]` または list関数。\n",
    "\n",
    "p60\n",
    "- 要素の追加は `append` または、`insert`。 （insertはapendに比べて処理速度が遅い）\n",
    "- 要素の削除は `pop` または、`remove` 。\n",
    "- 要素に値が含まれているかの確認は `in` キーワードを使用。\n",
    "\n",
    "p61\n",
    "- `+` 演算子を用いてリスト同士を連結可能。（コスト高い）\n",
    "- 大きいリストを連結する場合は、`extend` を使用する方が良い。 \n",
    "（恐らく、+ の中身は要素の append )\n",
    "- `sort` はソート元に反映される（新しいオブジェクトは作成されない）\n",
    "- キーを指定してソート可能\n"
   ]
  },
  {
   "cell_type": "code",
   "execution_count": 2,
   "metadata": {},
   "outputs": [
    {
     "name": "stdout",
     "output_type": "stream",
     "text": [
      "### リストの要素は変更可能。\n",
      "list_test = [1, 2, 'a', None]\n",
      "list_test[1] = 'b`\n",
      "[1, 'b', 'a', None]\n",
      "\n",
      "### append は単一要素の追加\n",
      "list_test.append = [3, 4]\n",
      "3 と 4 ではなく、リスト [3,4] が追加されていることに注意\n",
      "[1, 'b', 'a', None, [3, 4]]\n",
      "\n",
      "### リストの結合は　＋ 演算子 で\n",
      "[4, None, 'foo'] + [7, 8, (2, 3)] = [4, None, 'foo', 7, 8, (2, 3)]\n",
      "\n",
      "### ソート結果は対象自体に反映される\n",
      "b = ['saw', 'small', 'He', 'foxes', 'six'] \n",
      "##### 文字数でソート\n",
      "b.sort(key=len) = ['He', 'saw', 'six', 'small', 'foxes']\n",
      "\n",
      "### in キーワードで存在確認\n",
      "arr = [1, 'a', 2]\n",
      "'a' in arr : True\n",
      "3 in arr : False\n"
     ]
    }
   ],
   "source": [
    "list_test = [1, 2, 'a', None]\n",
    "\n",
    "print(\"### リストの要素は変更可能。\")\n",
    "print(\"list_test = {}\".format(list_test))\n",
    "list_test[1] = 'b'\n",
    "print(\"list_test[1] = 'b`\")\n",
    "print(list_test)\n",
    "\n",
    "print(\"\\n### append は単一要素の追加\")\n",
    "list_test.append([3, 4])\n",
    "print(\"list_test.append = [3, 4]\")\n",
    "\n",
    "print(\"3 と 4 ではなく、リスト [3,4] が追加されていることに注意\")\n",
    "print(list_test)\n",
    "\n",
    "print(\"\\n### リストの結合は　＋ 演算子 で\")\n",
    "print(\"[4, None, 'foo'] + [7, 8, (2, 3)] = {}\\n\".format(\n",
    "    ([4, None, 'foo'] + [7, 8, (2, 3)])))\n",
    "\n",
    "print(\"### ソート結果は対象自体に反映される\")\n",
    "b = ['saw', 'small', 'He', 'foxes', 'six']\n",
    "print(\"b = ['saw', 'small', 'He', 'foxes', 'six'] \")\n",
    "b.sort(key=len)\n",
    "print(\"##### 文字数でソート\\nb.sort(key=len) = {}\\n\".format(b))\n",
    "\n",
    "print(\"### in キーワードで存在確認\")\n",
    "arr = [1, 'a', 2]\n",
    "print(\"arr = {}\".format(arr))\n",
    "print(\"'a' in arr : {}\".format('a' in arr))\n",
    "print(\"3 in arr : {}\".format(3 in arr))\n",
    "\n"
   ]
  },
  {
   "cell_type": "markdown",
   "metadata": {},
   "source": [
    "### スライシング\n",
    "p62\n",
    "- __シーケンス型の一部を抽出できる。__\n",
    "- スライシング記法は__`[startインデックス：stopインデックス:step]`__\n",
    "- startインデックスは含まれるが、stopインデックスは含まれない。\n",
    "- 各インデックスは省略可能。\n",
    "- startステップを省略した場合、シーケンスの先頭を意味する。\n",
    "- stopインデックスを省略した場合、シーケンスの末尾を意味する。\n",
    "- stepを省略した場合、1 を指定した事と同じ。\n",
    "- stepに負数を指定する事で、リストやタプルを反転させる事ができる。\n",
    "<img src=\"./image/chapter_03_001.jpg\" alt=\"Python におけるスライシングの説明図\n",
    "\" title=\"Python におけるスライシングの説明図\n",
    "\" width=\"500\" height=\"500\">"
   ]
  },
  {
   "cell_type": "code",
   "execution_count": 3,
   "metadata": {},
   "outputs": [
    {
     "name": "stdout",
     "output_type": "stream",
     "text": [
      "### シーケンス型の一部を抽出\n",
      "seq = [7, 2, 3, 7, 5, 6, 0, 1]\n",
      "\n",
      "seq[1:5] = [2, 3, 7, 5]\n",
      "seq[:5] = [7, 2, 3, 7, 5]\n",
      "seq[3:] = [7, 5, 6, 0, 1]\n",
      "seq[-4:] = [5, 6, 0, 1]\n",
      "seq[-6:-2] = [3, 7, 5, 6]\n",
      "seq[::2] = [7, 3, 5, 0]\n",
      "seqseq[::-1] = [1, 0, 6, 5, 7, 3, 2, 7]\n"
     ]
    }
   ],
   "source": [
    "# シーケンス型の一部を抽出できる。\n",
    "print(\"### シーケンス型の一部を抽出\")\n",
    "seq = [7, 2, 3, 7, 5, 6, 0, 1]\n",
    "print(\"seq = {}\\n\".format(seq))\n",
    "print(\"seq[1:5] = {}\".format(seq[1:5]))\n",
    "print(\"seq[:5] = {}\".format(seq[:5]))\n",
    "print(\"seq[3:] = {}\".format(seq[3:]))\n",
    "print(\"seq[-4:] = {}\".format(seq[-4:]))\n",
    "print(\"seq[-6:-2] = {}\".format(seq[-6:-2]))\n",
    "print(\"seq[::2] = {}\".format(seq[::2]))\n",
    "print(\"seqseq[::-1] = {}\".format(seq[::-1]))"
   ]
  },
  {
   "cell_type": "markdown",
   "metadata": {},
   "source": [
    "### enumerate関数\n",
    "p64\n",
    "- python標準の__enumerate関数__を使用する事で、（i, value)形式のタプルでインデックス番号と値を同時に取得できる。"
   ]
  },
  {
   "cell_type": "code",
   "execution_count": 4,
   "metadata": {},
   "outputs": [
    {
     "name": "stdout",
     "output_type": "stream",
     "text": [
      "### インデックス番号と値を同時取得\n",
      "some_list = ['a', 'b', 'c']\n",
      "\n",
      "for i, v in enumerate(some_list):\n",
      "\ti, v : (0, 'a')\n",
      "\ti, v : (1, 'b')\n",
      "\ti, v : (2, 'c')\n",
      "\n",
      "\n",
      "some_tup = ('a', 'b', 'c')\n",
      "\n",
      "for i, v in enumerate(some_tup):\n",
      "\ti, v : (0, 'a')\n",
      "\ti, v : (1, 'b')\n",
      "\ti, v : (2, 'c')\n"
     ]
    }
   ],
   "source": [
    "print(\"### インデックス番号と値を同時取得\")\n",
    "some_list = ['a', 'b', 'c']\n",
    "print(\"some_list = {}\\n\".format(some_list))\n",
    "print(\"for i, v in enumerate(some_list):\")\n",
    "for i, v in enumerate(some_list):\n",
    "    print(\"\\ti, v : {}\".format( (i ,v)))\n",
    "\n",
    "some_tup = ('a', 'b', 'c')\n",
    "print(\"\\n\\nsome_tup = {}\\n\".format(some_tup))\n",
    "print(\"for i, v in enumerate(some_tup):\")\n",
    "for i, v in enumerate(some_tup):\n",
    "    print(\"\\ti, v : {}\".format( (i ,v)))"
   ]
  },
  {
   "cell_type": "markdown",
   "metadata": {},
   "source": [
    "### sorted関数\n",
    "p65\n",
    "- 数字、文字もソート可能\n",
    "（但し、型が混ざっている場合はNG）"
   ]
  },
  {
   "cell_type": "code",
   "execution_count": 5,
   "metadata": {},
   "outputs": [
    {
     "name": "stdout",
     "output_type": "stream",
     "text": [
      "sorted([7, 1, 2, 6, 0, 3, 2]) :\n",
      "[0, 1, 2, 2, 3, 6, 7]\n",
      "\n",
      "sorted(['b', 'c', 'a']) :\n",
      "['a', 'b', 'c']\n",
      "\n",
      "sorted('horse race') :\n",
      "[' ', 'a', 'c', 'e', 'e', 'h', 'o', 'r', 'r', 's']\n"
     ]
    }
   ],
   "source": [
    "num_sort = sorted([7, 1, 2, 6, 0, 3, 2])\n",
    "char_sort = sorted(['b', 'c', 'a'])\n",
    "str_sort = sorted('horse race')\n",
    "\n",
    "print(\"sorted([7, 1, 2, 6, 0, 3, 2]) :\\n{}\\n\".format(num_sort))\n",
    "print(\"sorted(['b', 'c', 'a']) :\\n{}\\n\".format(char_sort))\n",
    "print(\"sorted('horse race') :\\n{}\".format(str_sort))"
   ]
  },
  {
   "cell_type": "markdown",
   "metadata": {},
   "source": [
    "### zip関数\n",
    "p65\n",
    "- 複数のリスト、タプル、シーケンスを１つのタプルにまとめる。\n",
    "- 生成されるリストの要素数は、最も短いシーケンスによって決まる。\n",
    "- enumerateとの合わせて使うのが強力"
   ]
  },
  {
   "cell_type": "code",
   "execution_count": 6,
   "metadata": {},
   "outputs": [
    {
     "data": {
      "text/plain": [
       "[('foo', 1, False), ('bar', 2, True)]"
      ]
     },
     "execution_count": 6,
     "metadata": {},
     "output_type": "execute_result"
    }
   ],
   "source": [
    "seq1 = ['foo', 'bar', 'baz']\n",
    "seq2 = [1, 2, 3]\n",
    "seq3 = [False, True]\n",
    "zipped = zip(seq1, seq2, seq3)\n",
    "list(zipped)"
   ]
  },
  {
   "cell_type": "code",
   "execution_count": 7,
   "metadata": {},
   "outputs": [
    {
     "name": "stdout",
     "output_type": "stream",
     "text": [
      "0: foo, 1\n",
      "1: bar, 2\n",
      "2: baz, 3\n"
     ]
    }
   ],
   "source": [
    "for i, (a, b) in enumerate(zip(seq1, seq2)):\n",
    "    print('{0}: {1}, {2}'.format(i, a, b))"
   ]
  },
  {
   "cell_type": "code",
   "execution_count": 8,
   "metadata": {},
   "outputs": [
    {
     "name": "stdout",
     "output_type": "stream",
     "text": [
      "zipped_list = [('Nolan', 'Roger', 'Schilling'), ('Ryan', 'Clemens', 'Curt')]\n",
      "\n",
      "first_names = ('Nolan', 'Roger', 'Schilling')\n",
      "last_names = ('Ryan', 'Clemens', 'Curt')\n"
     ]
    }
   ],
   "source": [
    "pitchers = [('Nolan', 'Ryan'), ('Roger', 'Clemens'), ('Schilling', 'Curt')]\n",
    "\n",
    "# pitchersの要素を分解してzipの引数にする\n",
    "zipped_list = list(zip(*pitchers))\n",
    "print(\"zipped_list = {}\\n\".format(zipped_list))\n",
    "\n",
    "# 要素の数だけ、変数を指定可能\n",
    "first_names, last_names = zip(*pitchers)\n",
    "\n",
    "print(\"first_names = {}\".format(first_names))\n",
    "print(\"last_names = {}\".format(last_names))\n"
   ]
  },
  {
   "cell_type": "markdown",
   "metadata": {},
   "source": [
    "### reversed関数\n",
    "p66\n",
    "- reverseはジェネレータ。（後述）  \n",
    "  設計図みたいなもの。"
   ]
  },
  {
   "cell_type": "code",
   "execution_count": 9,
   "metadata": {},
   "outputs": [
    {
     "name": "stdout",
     "output_type": "stream",
     "text": [
      "reversed(range(10)) = <range_iterator object at 0x1098a64b0>\n",
      "\n",
      "list(reversed(range(10))) = [9, 8, 7, 6, 5, 4, 3, 2, 1, 0]\n"
     ]
    }
   ],
   "source": [
    "gen_reverse = reversed(range(10))\n",
    "print(\"reversed(range(10)) = {}\\n\".format(gen_reverse))\n",
    "\n",
    "# list等で使う場面になって実体化\n",
    "print(\"list(reversed(range(10))) = {}\".format(list(reversed(range(10)))))\n",
    "# list(reversed(range(10)))"
   ]
  },
  {
   "cell_type": "markdown",
   "metadata": {},
   "source": [
    "### ディクショナリ\n",
    "p 66\n",
    "- キー・バリュー(key-value)ペアの集合。\n",
    "- 定義の仕方は __中括弧 { } __を使い、キーとバリューをコロンで区切る。\n",
    "- キーに指定して値にアクセス。\n",
    "- キーに紐づく値は変更可能。\n",
    "- キーが存在しな場合の参照は、新規のキーを作成する事と同義。\n",
    "- 既にキーが存在していた場合は、上書きされる。\n",
    "\n",
    "p 67\n",
    "- `in`キーワードで、キーを含んでいるかを判定できる。（リストやタプルと同じ）\n",
    "- キーを削除したい場合は`del`、`pop`を使用する。（popは削除した値を取得できる）"
   ]
  },
  {
   "cell_type": "code",
   "execution_count": 10,
   "metadata": {},
   "outputs": [
    {
     "name": "stdout",
     "output_type": "stream",
     "text": [
      "### ディクショナリを作成\n",
      "d1 = {{'a' : 'some value', 'b' : [1, 2, 3, 4]}}\n",
      "\n",
      "### キーを指定して値にアクセス\n",
      "d1['a'] = some value\n",
      "\n",
      "### キーに紐づく値は変更可能\n",
      "d1['a'] = 'hoge' \n",
      "{'a': 'hoge', 'b': [1, 2, 3, 4]}\n",
      "\n",
      "### キーが存在しな場合の参照は、新規のキーを作成される（キー値が文字列に変換されている事に注意\n",
      "d1[7] = 'an integer' \n",
      "{'a': 'hoge', 'b': [1, 2, 3, 4], '7': 'an integer'}\n",
      "\n",
      "### 既にキーが存在していた場合は、上書きされる\n",
      "d1[7] = 'an integer' \n",
      "{'a': 'hoge', 'b': [1, 2, 3, 4], '7': '数値です。'}\n",
      "\n",
      "### inキーワードで、キーを含んでいるかを判定\n",
      "'a' in d1 = True\n",
      "'c' in d1 = False\n",
      "\n",
      "### popでキーを削除\n",
      "d1.pop('7') = 数値です。\n",
      "{'a': 'hoge', 'b': [1, 2, 3, 4]}\n"
     ]
    }
   ],
   "source": [
    "# ディクショナリを作成\n",
    "print(\"### ディクショナリを作成\")\n",
    "d1 = {'a' : 'some value', 'b' : [1, 2, 3, 4]}\n",
    "print(\"d1 = {{'a' : 'some value', 'b' : [1, 2, 3, 4]}}\\n\")\n",
    "\n",
    "# キーを指定して値にアクセス。\n",
    "print(\"### キーを指定して値にアクセス\")\n",
    "print(\"d1['a'] = {}\".format(d1['a']))\n",
    "\n",
    "# キーに紐づく値は変更可能。\n",
    "print(\"\\n### キーに紐づく値は変更可能\")\n",
    "d1['a'] = 'hoge'\n",
    "print(\"d1['a'] = 'hoge' \\n{}\".format(d1))\n",
    "\n",
    "# キーが存在しな場合の参照は、新規のキーを作成される。\n",
    "print(\"\\n### キーが存在しな場合の参照は、新規のキーを作成される（キー値が文字列に変換されている事に注意\")\n",
    "d1['7'] = 'an integer'\n",
    "print(\"d1[7] = 'an integer' \\n{}\".format(d1))\n",
    "\n",
    "# 既にキーが存在していた場合は、上書きされる。\n",
    "print(\"\\n### 既にキーが存在していた場合は、上書きされる\")\n",
    "d1['7'] = '数値です。'\n",
    "print(\"d1[7] = 'an integer' \\n{}\".format(d1))\n",
    "\n",
    "# inでキーの存在確認。\n",
    "print(\"\\n### inキーワードで、キーを含んでいるかを判定\")\n",
    "print(\"'a' in d1 = {}\".format('a' in d1 ))\n",
    "print(\"'c' in d1 = {}\".format('c' in d1 ))\n",
    "\n",
    "# popでキーを削除。\n",
    "print(\"\\n### popでキーを削除\")\n",
    "print(\"d1.pop('7') = {}\".format(d1.pop('7')))\n",
    "print(d1)"
   ]
  },
  {
   "cell_type": "markdown",
   "metadata": {},
   "source": [
    "***\n",
    "p68\n",
    "- keysメソッドでキー一覧を取得。\n",
    "- valueメソッドで値の一覧を取得。\n",
    "- keys、valueメソッドは定義した順番で一覧を返す保証はない。\n",
    "- for文で キーにアクセスする事ができる。\n",
    "- enumerateで同時アクセスできるのは インデックス と キー。"
   ]
  },
  {
   "cell_type": "code",
   "execution_count": 11,
   "metadata": {},
   "outputs": [
    {
     "name": "stdout",
     "output_type": "stream",
     "text": [
      "d1 = {'a': 'hoge', 'b': [1, 2, 3, 4]}\n",
      "\n",
      "v### keysメソッドでキー一覧を取得\n",
      "list(d1.keys()) = ['a', 'b']\n",
      "\n",
      "### valuesメソッドで値の一覧を取得\n",
      "list(d1.values()) = ['hoge', [1, 2, 3, 4]]\n",
      "\n",
      "### for文で キーにアクセス可能\n",
      "\tkey = a\n",
      "\tkey = b\n",
      "\n",
      "### enumerateで同時アクセスできるのは インデックス と キー\n",
      "\tindex = 0, key = a\n",
      "\tindex = 1, key = b\n"
     ]
    }
   ],
   "source": [
    "print(\"d1 = {}\".format(d1))\n",
    "\n",
    "print(\"\\nv### keysメソッドでキー一覧を取得\")\n",
    "print(\"list(d1.keys()) = {}\".format(list(d1.keys())))\n",
    "\n",
    "print(\"\\n### valuesメソッドで値の一覧を取得\")\n",
    "print(\"list(d1.values()) = {}\".format(list(d1.values())))\n",
    "\n",
    "print(\"\\n### for文で キーにアクセス可能\")\n",
    "for key in d1:\n",
    "    print(\"\\tkey = {}\".format(key))\n",
    "\n",
    "print(\"\\n### enumerateで同時アクセスできるのは インデックス と キー\")\n",
    "for index, key in enumerate(d1):\n",
    "    print(\"\\tindex = {}, key = {}\".format(index, key))\n"
   ]
  },
  {
   "cell_type": "markdown",
   "metadata": {},
   "source": [
    "***\n",
    "p68\n",
    "- ディクショナリA に ディクショナリB を追加するには `update`メソッドを使用する。"
   ]
  },
  {
   "cell_type": "code",
   "execution_count": 12,
   "metadata": {},
   "outputs": [
    {
     "name": "stdout",
     "output_type": "stream",
     "text": [
      "### 追加前 d1 = {'a': 'some value', 'b': [1, 2, 3, 4]}\n",
      "d1.update({{'b' : 'foo', 'c' : 12}})\n",
      "### 追加後 d1 = {'a': 'some value', 'b': 'foo', 'c': 12}\n"
     ]
    }
   ],
   "source": [
    "d1 = {'a' : 'some value', 'b' : [1, 2, 3, 4]}\n",
    "print(\"### 追加前 d1 = {}\".format(d1))\n",
    "\n",
    "d1.update({'b' : 'foo', 'c' : 12})\n",
    "print(\"d1.update({{'b' : 'foo', 'c' : 12}})\")\n",
    "print(\"### 追加後 d1 = {}\".format(d1))"
   ]
  },
  {
   "cell_type": "markdown",
   "metadata": {},
   "source": [
    "### シーケンスからディクショナリを作る\n",
    "p68\n",
    "- よく使用される方法として、内包表記（後述）という手法もある。"
   ]
  },
  {
   "cell_type": "code",
   "execution_count": 13,
   "metadata": {},
   "outputs": [
    {
     "data": {
      "text/plain": [
       "{1: 'a', 2: 'b'}"
      ]
     },
     "execution_count": 13,
     "metadata": {},
     "output_type": "execute_result"
    }
   ],
   "source": [
    "d2 = [1, 2]\n",
    "d3 = ['a', 'b']\n",
    "\n",
    "dict(zip(d2, d3))"
   ]
  },
  {
   "cell_type": "markdown",
   "metadata": {},
   "source": [
    "### ディクショナリのデフォルト値\n",
    "p69\n",
    "- `get`と`pop`メソッドはデフォルト値を戻す。\n",
    "- キーが存在しない場合、getは__`None`__を戻す。\n",
    "- キーが存在しない場合、popは__`例外`__を発生させる。"
   ]
  },
  {
   "cell_type": "markdown",
   "metadata": {},
   "source": [
    "### ディクショナリで使えるキーの型\n",
    "p70\n",
    "- キー に使用できるのは\n",
    "   - スカラー値(int、float、string)  \n",
    "   - 変更不可能(immutable)なオブジェクト  \n",
    "   - タプル(タプル内のすべてのオブジェクトも変更不可能  "
   ]
  },
  {
   "cell_type": "markdown",
   "metadata": {},
   "source": [
    "### セット\n",
    "p70\n",
    "- 順序付けされていない一意な要素の集合。\n",
    "- set関数か中括弧 `{ }` を使って作成できる。\n",
    "- 集合演算をサポート。\n",
    "\n",
    "p72\n",
    "- issubsetメソッドで、部分集合であるか否かを調べる事ができる。\n",
    "- issupersetメソッドで上位集合であるかを調べる事ができる。"
   ]
  },
  {
   "cell_type": "code",
   "execution_count": 14,
   "metadata": {},
   "outputs": [
    {
     "data": {
      "text/plain": [
       "{1, 2, 3}"
      ]
     },
     "execution_count": 14,
     "metadata": {},
     "output_type": "execute_result"
    }
   ],
   "source": [
    "# 一意な要素を集合。\n",
    "set([2, 2, 2, 1, 3, 3])"
   ]
  },
  {
   "cell_type": "code",
   "execution_count": 15,
   "metadata": {},
   "outputs": [
    {
     "name": "stdout",
     "output_type": "stream",
     "text": [
      "a.union(b) = {1, 2, 3, 4, 5, 6, 7, 8}\n",
      "a | b = {1, 2, 3, 4, 5, 6, 7, 8}\n",
      "a.intersection(b)= {3, 4, 5}\n"
     ]
    }
   ],
   "source": [
    "a = {1, 2, 3, 4, 5}\n",
    "b = {3, 4, 5, 6, 7, 8}\n",
    "\n",
    "# 集合演算をサポート（ union は a と b の和集合 ）\n",
    "print(\"a.union(b) = {}\".format(a.union(b)))\n",
    "print(\"a | b = {}\".format(a | b))\n",
    "\n",
    "# intersection は a と b の積集合\n",
    "print(\"a.intersection(b)= {}\".format(a.intersection(b)))"
   ]
  },
  {
   "cell_type": "markdown",
   "metadata": {},
   "source": [
    "### リスト、セット、ディクショナリの内包表記\n",
    "p72、73\n",
    "- __内包表記__でコーディング量を減らす事が可能。\n",
    "- __リスト内包表記 : `[expr for val in collection if condition]`__\n",
    "- __ディクショナリ内包表記 : `{key-expr : value-expr for value in collection if condition}`__\n",
    "- セット内包表記 : `{expr for value in collection if condition}`"
   ]
  },
  {
   "cell_type": "code",
   "execution_count": 16,
   "metadata": {},
   "outputs": [
    {
     "data": {
      "text/plain": [
       "['BAT', 'CAR', 'DOVE', 'PYTHON']"
      ]
     },
     "execution_count": 16,
     "metadata": {},
     "output_type": "execute_result"
    }
   ],
   "source": [
    "# リスト内包表記\n",
    "strings = ['a', 'as', 'bat', 'car', 'dove', 'python']\n",
    "\n",
    "# stringsの要素x の長さが２よりも大きい場合、upper() 実行したリストを作成\n",
    "[x.upper() for x in strings if len(x) > 2]"
   ]
  },
  {
   "cell_type": "code",
   "execution_count": 17,
   "metadata": {},
   "outputs": [
    {
     "data": {
      "text/plain": [
       "{'a': 0, 'as': 1, 'bat': 2, 'car': 3, 'dove': 4, 'python': 5}"
      ]
     },
     "execution_count": 17,
     "metadata": {},
     "output_type": "execute_result"
    }
   ],
   "source": [
    "# ディクショナリ内包表記\n",
    "strings = ['a', 'as', 'bat', 'car', 'dove', 'python']\n",
    "\n",
    "# リスト（strings）の 要素、インデックス番号 を key：value にしたディクショナリーを作成。\n",
    "{val: index for index, val in enumerate(strings)}"
   ]
  },
  {
   "cell_type": "code",
   "execution_count": 18,
   "metadata": {},
   "outputs": [
    {
     "data": {
      "text/plain": [
       "{1, 2, 3, 4, 6}"
      ]
     },
     "execution_count": 18,
     "metadata": {},
     "output_type": "execute_result"
    }
   ],
   "source": [
    "# セット内包表記\n",
    "strings = ['a', 'as', 'bat', 'car', 'dove', 'python']\n",
    "\n",
    "# リスト要素の長さの集合を作成\n",
    "{len(x) for x in strings}"
   ]
  },
  {
   "cell_type": "markdown",
   "metadata": {},
   "source": [
    "### ネストしたリスト内包表記\n",
    "p74\n",
    "- 内包表記Aの中に内包表記Bを入れ子にして記述する事が可能\n",
    "- コード量は減るが、やり過ぎると可読性が悪くなる。"
   ]
  },
  {
   "cell_type": "code",
   "execution_count": 19,
   "metadata": {},
   "outputs": [
    {
     "name": "stdout",
     "output_type": "stream",
     "text": [
      "ネストした内包表記を用いた場合：['Steven']\n",
      "ネストしていない内包表記を用いた場合：['Steven']\n"
     ]
    }
   ],
   "source": [
    "all_data = [['John', 'Emily', 'Michael', 'Mary', 'Steven'],\n",
    "            ['Maria', 'Juan', 'Javier', 'Natalia', 'Pilar']]\n",
    "\n",
    "# ネストした内包表記を用いた場合（ names は all_data の行に相当）\n",
    "result = [name for names in all_data for name in names if name.count('e') >= 2]\n",
    "\n",
    "# ネストしてない内包表記を用いた場合\n",
    "names_of_interest = []\n",
    "for names in all_data:\n",
    "    enough_es = [name for name in names if name.count('e') >= 2]\n",
    "    names_of_interest.extend(enough_es)\n",
    "\n",
    "print(\"ネストした内包表記を用いた場合：{}\".format(result))\n",
    "print(\"ネストしていない内包表記を用いた場合：{}\".format(names_of_interest))"
   ]
  },
  {
   "cell_type": "markdown",
   "metadata": {},
   "source": [
    "## 3.2 関数\n",
    "p75\n",
    "- `def`キーワードで宣言。\n",
    "- `return`キーワードで戻す。\n",
    "- 引数には、__`位置引数`__と__`キーワード引数`__がある。\n",
    "- 位置引数とキーワード引数を併用する場合は、キーワード引数は位置引数の後に使用する。"
   ]
  },
  {
   "cell_type": "code",
   "execution_count": 20,
   "metadata": {},
   "outputs": [
    {
     "name": "stdout",
     "output_type": "stream",
     "text": [
      "my_function(3.14, 7, 3.5)  = 35.49\n",
      "\n",
      "my_function(10, 20)  = 45.0\n",
      "\n",
      "my_function(5, 6, z=0.7)  = 0.06363636363636363\n"
     ]
    }
   ],
   "source": [
    "# 関数の例（z=1.5はzが省略された場合の、初期値）\n",
    "def my_function(x, y, z=1.5):\n",
    "    if z > 1:\n",
    "        return z * (x + y)\n",
    "    else:\n",
    "        return z / (x + y)\n",
    "\n",
    "\n",
    "# 位置引数のみを使用\n",
    "print(\"my_function(3.14, 7, 3.5)  = {}\\n\".format(my_function(3.14, 7, 3.5)))\n",
    "\n",
    "# 引数を省略した\n",
    "print(\"my_function(10, 20)  = {}\\n\".format(my_function(10, 20)))\n",
    "\n",
    "# 位置引数とキーワード引数を併用(5, 6 が 位置引数、0.7 は z に対するキーワード引数)\n",
    "print(\"my_function(5, 6, z=0.7)  = {}\".format(my_function(5, 6, z=0.7)))"
   ]
  },
  {
   "cell_type": "markdown",
   "metadata": {},
   "source": [
    "### 名前空間、スコープ、ローカル変数\n",
    "p76\n",
    "- 変数のスコープには __`グローバル`__ と __`ローカル`__ がある。\n",
    "- 関数内の変数は全てローカル。\n",
    "- 関数内の変数は終了後に消失する。\n",
    "- 関数外の変数に代入することは可能だが、__禁じ手__。  \n",
    "（定数以外はグローバルな変数は定義しないのがプログラミングのお作法）\n",
    "- 関数は複数の戻り値を返せる。"
   ]
  },
  {
   "cell_type": "code",
   "execution_count": 21,
   "metadata": {},
   "outputs": [
    {
     "data": {
      "text/plain": [
       "[0, 1, 2, 3, 4]"
      ]
     },
     "execution_count": 21,
     "metadata": {},
     "output_type": "execute_result"
    }
   ],
   "source": [
    "#グローバル変数\n",
    "global_a = []\n",
    "\n",
    "# グローバル変数に代入する関数\n",
    "def func_global():\n",
    "    for i in range(5): \n",
    "        global_a.append(i) \n",
    "\n",
    "func_global() \n",
    "\n",
    "# notebook自体が関数と思われ、代入できてしまうが、本当はNG\n",
    "global_a"
   ]
  },
  {
   "cell_type": "code",
   "execution_count": 31,
   "metadata": {},
   "outputs": [
    {
     "name": "stdout",
     "output_type": "stream",
     "text": [
      "### 例外発生\n",
      "エラーメッセージ：(\"name 'local_a' is not defined\",)\n"
     ]
    }
   ],
   "source": [
    "# ローカル変数に代入する関数\n",
    "def func_local():\n",
    "    local_a = []\n",
    "    for i in range(5): \n",
    "        local_a.append(i) \n",
    "\n",
    "try:\n",
    "    func_local()\n",
    "    local_a\n",
    "except Exception as e:\n",
    "    print(\"### 例外発生\\nエラーメッセージ：{}\".format(e.args))\n",
    "else:\n",
    "    print(\"### 例外は発生しませんでした。\")"
   ]
  },
  {
   "cell_type": "code",
   "execution_count": 23,
   "metadata": {},
   "outputs": [
    {
     "name": "stdout",
     "output_type": "stream",
     "text": [
      "a1 = 5, b1 = 6, c1 = 7\n"
     ]
    }
   ],
   "source": [
    "# 複数の戻り値を返す\n",
    "def f():\n",
    "    a = 5\n",
    "    b = 6\n",
    "    c = 7\n",
    "    return a, b, c\n",
    "\n",
    "a1, b1, c1 = f()\n",
    "print(\"a1 = {}, b1 = {}, c1 = {}\".format(a1, b1, c1))"
   ]
  },
  {
   "cell_type": "markdown",
   "metadata": {},
   "source": [
    "***\n",
    "p77、78\n",
    "- 関数はオブジェクトである。\n",
    "- 正規表現はreライブラリで提供されている。\n",
    "- __他の関数の引数として使う事ができる。__"
   ]
  },
  {
   "cell_type": "markdown",
   "metadata": {},
   "source": [
    "### 無名（ラムダ）関数\n",
    "p79\n",
    "- __`lamda`__キーワードを使って無名関数を宣言。"
   ]
  },
  {
   "cell_type": "code",
   "execution_count": 24,
   "metadata": {},
   "outputs": [
    {
     "name": "stdout",
     "output_type": "stream",
     "text": [
      "short_function(5) = 10\n",
      "equiv_anon(5) = 10\n"
     ]
    }
   ],
   "source": [
    "# ラムダを使わない場合\n",
    "def short_function(x): \n",
    "    return x * 2\n",
    "\n",
    "# ラムダ関数を使った場合\n",
    "equiv_anon = lambda x: x * 2\n",
    "\n",
    "print(\"short_function(5) = {}\".format(short_function(5)))\n",
    "print(\"equiv_anon(5) = {}\".format(equiv_anon(5)))"
   ]
  },
  {
   "cell_type": "markdown",
   "metadata": {},
   "source": [
    "### カリー化\n",
    "p80\n",
    "- 引数の一部を利用して、新たな関数を作成する事。"
   ]
  },
  {
   "cell_type": "code",
   "execution_count": 25,
   "metadata": {},
   "outputs": [
    {
     "data": {
      "text/plain": [
       "8"
      ]
     },
     "execution_count": 25,
     "metadata": {},
     "output_type": "execute_result"
    }
   ],
   "source": [
    "def add_numbers(x, y): \n",
    "    return x + y\n",
    "\n",
    "# add_numbersの引数xを利用\n",
    "add_five = lambda y: add_numbers(5, y)\n",
    "\n",
    "# 引数が１つだけになっている事に注意\n",
    "add_five(3)"
   ]
  },
  {
   "cell_type": "markdown",
   "metadata": {},
   "source": [
    "### ジェネレータ\n",
    "p81\n",
    "- ジェネレータはイテレータを作成する。\n",
    "- イテレータはfor文など逐次処理で使用される。\n",
    "- ジェネレータは使用されるまで生成されない。\n",
    "- __`yield`__キーワードで作成される。"
   ]
  },
  {
   "cell_type": "code",
   "execution_count": 26,
   "metadata": {
    "scrolled": true
   },
   "outputs": [
    {
     "name": "stdout",
     "output_type": "stream",
     "text": [
      "gen = <generator object squares at 0x1098b3d00>\n",
      "\n",
      "1\n",
      "4\n",
      "9\n",
      "16\n",
      "25\n",
      "36\n",
      "49\n",
      "64\n",
      "81\n",
      "100\n"
     ]
    }
   ],
   "source": [
    "# yieldを使用したジェネレータの作成\n",
    "def squares(n=10):\n",
    "\n",
    "    # n回 ループし、1からnまで２倍した値を返却する\n",
    "    for i in range(1, n + 1):\n",
    "        yield i**2\n",
    "\n",
    "\n",
    "# ジェネレータを生成(n=10)\n",
    "gen = squares()\n",
    "print(\"gen = {}\\n\".format(gen))\n",
    "\n",
    "# 使用時に、ジェネレータは実行される\n",
    "for i in gen:\n",
    "    print(i)"
   ]
  },
  {
   "cell_type": "markdown",
   "metadata": {},
   "source": [
    "***\n",
    "p82\n",
    "- ジェネレータ式でも作成可能。\n",
    "- ジェネレータ式の場合は、小括弧 `()` で囲む"
   ]
  },
  {
   "cell_type": "code",
   "execution_count": 27,
   "metadata": {},
   "outputs": [
    {
     "name": "stdout",
     "output_type": "stream",
     "text": [
      "0\n",
      "1\n",
      "4\n",
      "9\n",
      "16\n",
      "25\n",
      "36\n",
      "49\n",
      "64\n",
      "81\n"
     ]
    }
   ],
   "source": [
    "# ジェネレータ式を使って作成\n",
    "gen = (x ** 2 for x in range(10))\n",
    "\n",
    "for i in gen:\n",
    "    print(i)"
   ]
  },
  {
   "cell_type": "markdown",
   "metadata": {},
   "source": [
    "***\n",
    "p82\n",
    "- itertoolsモジュールには便利なジェネレータが揃っている。"
   ]
  },
  {
   "cell_type": "code",
   "execution_count": 28,
   "metadata": {
    "scrolled": true
   },
   "outputs": [
    {
     "name": "stdout",
     "output_type": "stream",
     "text": [
      "A ['Alan', 'Adam']\n",
      "W ['Wes', 'Will']\n",
      "A ['Albert']\n",
      "S ['Steven']\n"
     ]
    }
   ],
   "source": [
    "import itertools\n",
    "\n",
    "first_letter = lambda x: x[0]\n",
    "names = ['Alan', 'Adam', 'Wes', 'Will', 'Albert', 'Steven']\n",
    "\n",
    "# 最初の１文字が一致するnames要素をグルーピング\n",
    "for letter, names in itertools.groupby(names, first_letter):\n",
    "\n",
    "    # このnamesはジェネレータ\n",
    "    print(letter, list(names))"
   ]
  },
  {
   "cell_type": "markdown",
   "metadata": {},
   "source": [
    "### エラーと例外処理\n",
    "p83\n",
    "- 例外処理は堅牢はプログラムを書く為に重要。\n",
    "- 例外（エラー）が発生しそうな箇所を__`try`__ と __`except`__で囲む。\n",
    "- except以下のコードは例外が発生した際に実行される。"
   ]
  },
  {
   "cell_type": "code",
   "execution_count": 29,
   "metadata": {},
   "outputs": [
    {
     "name": "stdout",
     "output_type": "stream",
     "text": [
      "attempt_float('1.234') = 1.234\n",
      "\n",
      "### 例外発生 ###\n",
      "attempt_float('abc') = None\n"
     ]
    }
   ],
   "source": [
    "def attempt_float(x): \n",
    "    try:\n",
    "        return float(x) \n",
    "    except:\n",
    "        print(\"### 例外発生 ###\")\n",
    "\n",
    "# 例外が発生しない場合\n",
    "print(\"attempt_float('1.234') = {}\\n\".format(attempt_float('1.234')))\n",
    "\n",
    "# 例外が発生する場合\n",
    "print(\"attempt_float('abc') = {}\".format(attempt_float('abc')))\n"
   ]
  },
  {
   "cell_type": "markdown",
   "metadata": {},
   "source": [
    "p84\n",
    "- 特定の例外を捕捉したい場合は、`except` の後に例外の種類を表すクラス名を記述する。\n",
    "- 複数の例外を捕捉したい場合は、例外のクラス名をタプルで指定する。\n",
    "- 例外の発生有無に関係なく実行したいコードがある場合は、__`finally`__句に記述する。  \n",
    "（try の中で return していても finally は実行される）\n",
    "- 例外が発生しなかった場合のみに実行したいコードは__`else`__句に記述する。  \n",
    "（else に到達する前に return をしていた場合は、実行されない）"
   ]
  },
  {
   "cell_type": "code",
   "execution_count": 30,
   "metadata": {
    "scrolled": true
   },
   "outputs": [
    {
     "name": "stdout",
     "output_type": "stream",
     "text": [
      "attempt_float2('1.234') = 1.234\n",
      "### 例外なし ###\n",
      "### 常に実行されるコード x = 1.234\n",
      "\n",
      "### 例外発生 ###\n",
      "### 常に実行されるコード x = abc\n",
      "\n"
     ]
    }
   ],
   "source": [
    "def attempt_float2(x):\n",
    "    try:\n",
    "        print(\"attempt_float2('{}') = {}\".format(x, float(x)))        \n",
    "    except (TypeError, ValueError):\n",
    "        print(\"### 例外発生 ###\")\n",
    "    else:\n",
    "        print(\"### 例外なし ###\")\n",
    "    finally:\n",
    "        print(\"### 常に実行されるコード x = {}\\n\".format(x))\n",
    "    \n",
    "    return\n",
    "\n",
    "\n",
    "# 例外が発生しない場合\n",
    "attempt_float2('1.234')\n",
    "\n",
    "# 例外が発生する場合\n",
    "attempt_float2('abc')"
   ]
  },
  {
   "cell_type": "markdown",
   "metadata": {},
   "source": [
    "## 3.3 ファイルとオペレーティングシステム\n",
    "p86\n",
    "- ファイルの読み書きには、標準の__`open`__関数が使える。\n",
    "- open関数のデフォルトは読み込み専用モード（`r`）\n",
    "- with文を使う事で使用後のリソースの解放も行ってくれる。\n",
    "- `with open(ファイルへのパス, 'r'）as f` が書き方（ r の所にモードを指定）\n",
    "- f は逐次処理が行える。　\n",
    "\n",
    "p88\n",
    "- 書き込みモードは（`w`）\n",
    "- 上書きモードは（`x`）\n",
    "- 追記モードは（`a`）\n",
    "\n",
    "p89\n",
    "- `write`メソッドで指定した文字列をファイルへ書きこむ。\n",
    "\n",
    "p90\n",
    "- open関数に__`encodeing`__オプションを指定すると、ファイルの文字コードが指定できる。"
   ]
  },
  {
   "cell_type": "markdown",
   "metadata": {},
   "source": [
    "## 3.4 まとめ\n",
    "p91\n",
    "- ここまでが Numpy と 配列指向プログラミング を覚える為の準備。"
   ]
  },
  {
   "cell_type": "markdown",
   "metadata": {},
   "source": [
    "# 感想\n",
    "> リスト  \n",
    "> ディクショナリ  \n",
    "> 関数  \n",
    "> スコープ  \n",
    "> 内包表記  \n",
    "> エラーと例外処理    \n",
    "\n",
    "は押さえておきたい。  \n",
    "- パフォーマンスに差異がないならば、ネストのやりすぎは控えたほうが良い。"
   ]
  },
  {
   "cell_type": "code",
   "execution_count": null,
   "metadata": {},
   "outputs": [],
   "source": []
  }
 ],
 "metadata": {
  "kernelspec": {
   "display_name": "Python 3",
   "language": "python",
   "name": "python3"
  },
  "language_info": {
   "codemirror_mode": {
    "name": "ipython",
    "version": 3
   },
   "file_extension": ".py",
   "mimetype": "text/x-python",
   "name": "python",
   "nbconvert_exporter": "python",
   "pygments_lexer": "ipython3",
   "version": "3.6.4"
  },
  "toc": {
   "base_numbering": 1,
   "nav_menu": {},
   "number_sections": false,
   "sideBar": true,
   "skip_h1_title": false,
   "title_cell": "Table of Contents",
   "title_sidebar": "Contents",
   "toc_cell": false,
   "toc_position": {
    "height": "calc(100% - 180px)",
    "left": "10px",
    "top": "150px",
    "width": "473px"
   },
   "toc_section_display": true,
   "toc_window_display": false
  }
 },
 "nbformat": 4,
 "nbformat_minor": 2
}
