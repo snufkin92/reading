{
 "cells": [
  {
   "cell_type": "markdown",
   "metadata": {
    "toc": true
   },
   "source": [
    "<h1>目次<span class=\"tocSkip\"></span></h1>\n",
    "<div class=\"toc\"><ul class=\"toc-item\"><li><span><a href=\"#2章-Pythonの基礎、IPythonとJupyter-Notebook\" data-toc-modified-id=\"2章-Pythonの基礎、IPythonとJupyter-Notebook-1\"><span class=\"toc-item-num\">1&nbsp;&nbsp;</span>2章 Pythonの基礎、IPythonとJupyter Notebook</a></span><ul class=\"toc-item\"><li><span><a href=\"#2.1-Pythonインタプリタ\" data-toc-modified-id=\"2.1-Pythonインタプリタ-1.1\"><span class=\"toc-item-num\">1.1&nbsp;&nbsp;</span>2.1 Pythonインタプリタ</a></span></li><li><span><a href=\"#2.2-IPythonの基礎\" data-toc-modified-id=\"2.2-IPythonの基礎-1.2\"><span class=\"toc-item-num\">1.2&nbsp;&nbsp;</span>2.2 IPythonの基礎</a></span></li><li><span><a href=\"#2.3-Pythonの基礎\" data-toc-modified-id=\"2.3-Pythonの基礎-1.3\"><span class=\"toc-item-num\">1.3&nbsp;&nbsp;</span>2.3 Pythonの基礎</a></span></li></ul></li></ul></div>"
   ]
  },
  {
   "cell_type": "markdown",
   "metadata": {},
   "source": [
    "# 2章 Pythonの基礎、IPythonとJupyter Notebook\n"
   ]
  },
  {
   "cell_type": "markdown",
   "metadata": {},
   "source": [
    "## 2.1 Pythonインタプリタ\n"
   ]
  },
  {
   "cell_type": "markdown",
   "metadata": {},
   "source": [
    "## 2.2 IPythonの基礎\n"
   ]
  },
  {
   "cell_type": "markdown",
   "metadata": {},
   "source": [
    "## 2.3 Pythonの基礎\n",
    "\n",
    "注意が必要なのは、値の参照について。  \n",
    "- 数値や、文字列などスカラー型は値渡し\n",
    "- 配列やクラスなどはスカラー型以外は参照渡し\n",
    "オブジェクトのアドレスは`id()`で分かります。"
   ]
  },
  {
   "cell_type": "code",
   "execution_count": 3,
   "metadata": {},
   "outputs": [
    {
     "name": "stdout",
     "output_type": "stream",
     "text": [
      "### id(a) =  4467709296\n",
      "### id(b) =  4467709264\n",
      "### id(c) =  4467709264\n",
      "### a = 2\n",
      "### b = 1\n",
      "### c = 1\n"
     ]
    }
   ],
   "source": [
    "# 数値の場合\n",
    "a = 1\n",
    "b = a\n",
    "a = 2\n",
    "c = 1\n",
    "\n",
    "# 数値の値にアドレスが割り当てられている。（aのみアドレスが異なる）\n",
    "print(\"### id(a) = \", id(a))\n",
    "print(\"### id(b) = \", id(b))\n",
    "print(\"### id(c) = \", id(c))\n",
    "\n",
    "print(\"### a = {}\".format(a))\n",
    "print(\"### b = {}\".format(b))\n",
    "print(\"### c = {}\".format(c))"
   ]
  },
  {
   "cell_type": "code",
   "execution_count": 9,
   "metadata": {},
   "outputs": [
    {
     "name": "stdout",
     "output_type": "stream",
     "text": [
      "### id(d) =  4518055368\n",
      "### id(e) =  4518055368\n",
      "### id(f) =  4518295816\n",
      "### d = [4, 2, 3]\n",
      "### e = [4, 2, 3]\n",
      "### f = [4, 2, 3]\n",
      "### d = f :True\n"
     ]
    }
   ],
   "source": [
    "# リストの場合\n",
    "d = [1, 2, 3]\n",
    "e = d\n",
    "d[0] = 4\n",
    "f = [4, 2, 3]\n",
    "\n",
    "# dの値を変更しても、d,eのアドレスは変わらない。fのアドレスだけ異なっている事に注意\n",
    "print(\"### id(d) = \", id(d))\n",
    "print(\"### id(e) = \", id(e))\n",
    "print(\"### id(f) = \", id(f))\n",
    "\n",
    "print(\"### d = {}\".format(d))\n",
    "print(\"### e = {}\".format(e))\n",
    "print(\"### f = {}\".format(e))\n",
    "\n",
    "# listの場合、\"==\" 演算子で比較した時は注意。アドレスは異なっても中身が同じであれば判定は TRUE \n",
    "print(\"### d = f :{}\".format(d==f))\n"
   ]
  },
  {
   "cell_type": "code",
   "execution_count": 7,
   "metadata": {},
   "outputs": [
    {
     "name": "stdout",
     "output_type": "stream",
     "text": [
      "### before g =  1\n",
      "### arg1 =  2\n",
      "### after g =  1\n"
     ]
    }
   ],
   "source": [
    "# 関数への引数\n",
    "def hoge(arg1):\n",
    "    arg1 = 2\n",
    "    print(\"### arg1 = \", arg1)\n",
    "\n",
    "\n",
    "# 関数は値渡し\n",
    "g = 1\n",
    "print(\"### before g = \", g)\n",
    "hoge(g)\n",
    "print(\"### after g = \", g)"
   ]
  },
  {
   "cell_type": "code",
   "execution_count": 6,
   "metadata": {},
   "outputs": [
    {
     "name": "stdout",
     "output_type": "stream",
     "text": [
      "### before h =  [1, 2, 3]\n",
      "### arg2 =  [4, 2, 3]\n",
      "### after h =  [4, 2, 3]\n"
     ]
    }
   ],
   "source": [
    "# 関数への引数\n",
    "def foo(arg2):\n",
    "    arg2[0] = 4\n",
    "    print(\"### arg2 = \", arg2)\n",
    "\n",
    "\n",
    "# 関数は値渡し\n",
    "h = [1, 2, 3]\n",
    "print(\"### before h = \", h)\n",
    "foo(h)\n",
    "print(\"### after h = \", h)"
   ]
  }
 ],
 "metadata": {
  "kernelspec": {
   "display_name": "Python 3",
   "language": "python",
   "name": "python3"
  },
  "language_info": {
   "codemirror_mode": {
    "name": "ipython",
    "version": 3
   },
   "file_extension": ".py",
   "mimetype": "text/x-python",
   "name": "python",
   "nbconvert_exporter": "python",
   "pygments_lexer": "ipython3",
   "version": "3.6.4"
  },
  "toc": {
   "base_numbering": 1,
   "nav_menu": {},
   "number_sections": true,
   "sideBar": true,
   "skip_h1_title": false,
   "title_cell": "目次",
   "title_sidebar": "Contents",
   "toc_cell": true,
   "toc_position": {
    "height": "calc(100% - 180px)",
    "left": "10px",
    "top": "150px",
    "width": "165px"
   },
   "toc_section_display": true,
   "toc_window_display": false
  }
 },
 "nbformat": 4,
 "nbformat_minor": 2
}
