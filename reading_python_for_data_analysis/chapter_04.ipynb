{
 "cells": [
  {
   "cell_type": "markdown",
   "metadata": {},
   "source": [
    "# 4章 NumPyの基礎:配列とベクトル演算\n",
    "\n",
    "** NumPyの特徴 **\n",
    "* NumPy は __C言語と双方向のデータのやり取りができる。__  \n",
    "（Pythonはインタプリタ型言語である為、性能を求められる場面では低レベルな言語に処理を委譲できる）\n",
    "* Numpy 自体はC言語で記述されており、Python標準の同機能と比べて __高速 かつ メモリ使用量も少ない。__\n",
    "* __お作法として、NumPyの呼び出しは `import numpy as np` __"
   ]
  },
  {
   "cell_type": "code",
   "execution_count": 1,
   "metadata": {},
   "outputs": [
    {
     "data": {
      "text/plain": [
       "array([[1, 2, 3],\n",
       "       [4, 5, 6]])"
      ]
     },
     "execution_count": 1,
     "metadata": {},
     "output_type": "execute_result"
    }
   ],
   "source": [
    "# NumPyの呼び出し(記法は慣例的なお約束)\n",
    "import numpy as np\n",
    "\n",
    "# np.ndarrayの生成\n",
    "data = np.array([[1, 2, 3], [4, 5, 6]])\n",
    "type(data)\n",
    "data"
   ]
  },
  {
   "cell_type": "markdown",
   "metadata": {},
   "source": [
    "## 4.1 NumPy ndarray:多次元配列オブジェクト\n",
    "\n",
    "p95  \n",
    "* __ndarrayに対する算術操作は、配列要素全てに作用する。__\n",
    "\n",
    "p96\n",
    "* Python標準のリストと異なり、__要素は全て同じ型でなければいけない。__\n",
    "* `shape` で次元確認。`dtype` で要素の型を確認可能。\n",
    "* 分析用途で Python を使用するならば NumPy の習得は必須。"
   ]
  },
  {
   "cell_type": "code",
   "execution_count": 2,
   "metadata": {},
   "outputs": [
    {
     "name": "stdout",
     "output_type": "stream",
     "text": [
      "### 算術操作は、配列要素全てに作用\n",
      "data = [[1 2 3]\n",
      " [4 5 6]]\n",
      "data * 2 = [[ 2  4  6]\n",
      " [ 8 10 12]]\n",
      "\n",
      "### Python標準のリストと異なり、要素は全て同じ型でなければいけない。\n",
      "np_test = [1 2] [int64]\n",
      "np_test[0] に 'a' を代入\n",
      "例外発生\n",
      "エラーメッセージ：(\"invalid literal for int() with base 10: 'a'\",)\n"
     ]
    }
   ],
   "source": [
    "# 算術操作は、配列要素全てに作用\n",
    "print(\"### 算術操作は、配列要素全てに作用\\ndata = {}\\ndata * 2 = {}\\n\".format(\n",
    "    data, data * 2))\n",
    "\n",
    "# ndarrayの生成\n",
    "data = np.array([1, 2])\n",
    "print(\"### Python標準のリストと異なり、要素は全て同じ型でなければいけない。\\nnp_test = {} [{}]\".format(data, data.dtype))\n",
    "print(\"np_test[0] に 'a' を代入\")\n",
    "\n",
    "try:\n",
    "    data[0] = 'a'\n",
    "except Exception as e:\n",
    "    print(\"例外発生\\nエラーメッセージ：{}\".format(e.args))\n",
    "else:\n",
    "    print(\"例外は発生しませんでした。\")"
   ]
  },
  {
   "cell_type": "markdown",
   "metadata": {},
   "source": [
    "***\n",
    "p97\n",
    "* `np.zeros`、`np.ones` で要素を初期化。\n",
    "\n",
    "p98\n",
    "* 配列要素の型が指定されなかった場合、float64で初期化。\n",
    "* `np.identity()` で単位行列を作成。`np.eye()`　はより[細かい制御が可能](https://deepage.net/features/numpy-eye.html#npeye) 。\n",
    "\n",
    "p99\n",
    "* dtypeで要素の型を指定可能 (他言語と連携する際は、ビット長を記す）。\n",
    "\n",
    "p100\n",
    "* astypeメソッドでdtypeを変更可能。(使用時は、新たな ndarray オブジェクトが生成される)"
   ]
  },
  {
   "cell_type": "code",
   "execution_count": 3,
   "metadata": {},
   "outputs": [
    {
     "name": "stdout",
     "output_type": "stream",
     "text": [
      "np.zeros(2): [0. 0.]\n",
      "\n",
      "data: [1 2]\n",
      "np.ones(data): [[1. 1.]]\n",
      "\n",
      "np.orange(5): [0 1 2 3 4]\n",
      "\n",
      "np.identity(3):\n",
      " [[1. 0. 0.]\n",
      " [0. 1. 0.]\n",
      " [0. 0. 1.]]\n",
      "\n",
      "dype=np.int: [1 2]\n"
     ]
    }
   ],
   "source": [
    "# 2×2のゼロ行列を作成\n",
    "print(\"np.zeros(2): {}\\n\".format(np.zeros(2)))\n",
    "\n",
    "# 要素を全て１で埋める\n",
    "print(\"data: {}\".format(data))\n",
    "print(\"np.ones(data): {}\\n\".format(np.ones(data)))\n",
    "\n",
    "# 連番のベクトルを作成\n",
    "print(\"np.orange(5): {}\\n\".format(np.arange(5)))\n",
    "\n",
    "# 単位行列の作成\n",
    "print(\"np.identity(3):\\n {}\\n\".format(np.identity(3)))\n",
    "\n",
    "# [1.0,2.2]（float型）ををint型に変換\n",
    "print(\"dype=np.int: {}\".format(np.array([1.0,2.2], dtype=np.int)))"
   ]
  },
  {
   "cell_type": "markdown",
   "metadata": {},
   "source": [
    "***\n",
    "p101\n",
    "* 同じサイズの __ndarray 同士の算術演算は、同一の要素同士で計算される。__  \n",
    "(サイズの異なる ndarray 同士の算術演算はブロードキャストと呼ばれる)"
   ]
  },
  {
   "cell_type": "code",
   "execution_count": 4,
   "metadata": {
    "scrolled": true
   },
   "outputs": [
    {
     "name": "stdout",
     "output_type": "stream",
     "text": [
      "data: [1 5], data2: [2 4]\n",
      "\n",
      "data + data2 = [3 9]\n",
      "data / data2 = [0.5  1.25]\n",
      "data > data2 = [False  True]\n"
     ]
    }
   ],
   "source": [
    "data = np.array([1, 5])\n",
    "data2 = np.array([2, 4])\n",
    "print(\"data: {}, data2: {}\\n\".format(data,data2))\n",
    "\n",
    "print(\"data + data2 = {}\".format(data + data2))\n",
    "print(\"data / data2 = {}\".format(data / data2))\n",
    "print(\"data > data2 = {}\".format(data > data2))"
   ]
  },
  {
   "cell_type": "markdown",
   "metadata": {},
   "source": [
    "***\n",
    "p103\n",
    "* スライスへの変更は、操作元に反映される。 (コピーが必要な場合は `copy()` を使用する。)  \n",
    "* 多次元配列の要素へのアクセスには、インデックスのコンマ区切りリストでアクセス可能。\n",
    "\n",
    "<img src=\"./image/chapter_04_001.jpg\" alt=\"NumPy ２次元配列のインデックスの仕組み\" title=\"NumPy ２次元配列のインデックスの仕組み\" width=\"300\" height=\"300\">\n",
    "\n",
    "p107\n",
    "* 単独のコロン（：）は軸全体を表す。軸とはaxisの事（後述）\n",
    "<img src=\"./image/chapter_04_002.jpg\" alt=\"NumPy ２次元配列のスライシング\" title=\"NumPy ２次元配列のスライシング\" width=\"500\" height=\"300\">\n"
   ]
  },
  {
   "cell_type": "code",
   "execution_count": 5,
   "metadata": {
    "scrolled": true
   },
   "outputs": [
    {
     "name": "stdout",
     "output_type": "stream",
     "text": [
      "### ndarrayへのスライシングによる変更は、操作元に反映される\n",
      "data = [0 1 2 3 4]\n",
      "arr_slice[0] = 5\n",
      "data = [0 1 5 5 4]\n",
      "\n",
      "### 多次元配列の要素へのアクセス\n",
      "data = \n",
      "[[1 2 3]\n",
      " [4 5 6]\n",
      " [7 8 9]]\n",
      "data[1][1] = 5\n",
      "data[1, 1] = 5\n",
      "\n",
      "### 複数のスライスも指定可能\n",
      "data[:2, 1:] = \n",
      "[[2 3]\n",
      " [5 6]]\n"
     ]
    }
   ],
   "source": [
    "print(\"### ndarrayへのスライシングによる変更は、操作元に反映される\")\n",
    "data = np.arange(5)\n",
    "\n",
    "# インデックス番号 2,3 にアクセス\n",
    "arr_slice = data[2:4]\n",
    "print(\"data = {}\".format(data))\n",
    "\n",
    "# スライスの全要素に 5 を代入\n",
    "arr_slice[:] = 5\n",
    "print(\"arr_slice[0] = 5\\ndata = {}\\n\".format(data))\n",
    "\n",
    "print(\"### 多次元配列の要素へのアクセス\")\n",
    "data = np.array([[1, 2, 3], [4, 5, 6], [7, 8, 9]])\n",
    "print(\"data = \\n{}\".format(data))\n",
    "print(\"data[1][1] = {}\".format(data[1][1]))\n",
    "print(\"data[1, 1] = {}\\n\".format(data[1, 1])) # この書き方もOK\n",
    "\n",
    "print(\"### 複数のスライスも指定可能\")\n",
    "print(\"data[:2, 1:] = \\n{}\".format(data[:2, 1:]))\n"
   ]
  },
  {
   "cell_type": "markdown",
   "metadata": {},
   "source": [
    "***\n",
    "p109\n",
    "* 真偽値配列を使用してインデックス参照（__ブールインデックス参照__）が可能。\n",
    "* ブールインデックス参照を使用する場合は、参照先の軸の要素数と真偽値配列の要素数が一致している必要がある。  \n",
    "（要素数が異なっている場合、明示的なエラーが発生しないことがある為、要注意）  \n",
    "\n",
    "p110\n",
    "* 演算子 ~ は 条件式の結果を反転させる。\n",
    "* 論理演算子として、and、orキーワードは使用できない。＆、｜を使用する。。\n",
    "* ブールインデックス参照は__コピーが作成__される。"
   ]
  },
  {
   "cell_type": "code",
   "execution_count": 6,
   "metadata": {},
   "outputs": [
    {
     "name": "stdout",
     "output_type": "stream",
     "text": [
      "data = \n",
      "[[ 0.88054135  2.13056583  0.82084456  0.23890534]\n",
      " [-0.27819174 -0.54510659 -0.40159815 -2.01968417]\n",
      " [-0.6526113  -0.62522541  1.01935729  0.81349199]\n",
      " [ 0.50352333  0.04825818  1.02392687 -0.24090645]\n",
      " [-0.47332059  0.4513057  -0.07305773  0.46393897]\n",
      " [ 1.01939127  0.13793575  0.58420409  1.55913676]\n",
      " [ 0.27600629 -1.69991147  0.08848014  1.34824878]]\n",
      "\n",
      "names == 'Bob'\n",
      "[ True False False  True False False False] bool\n",
      "\n",
      "data[names == 'Bob', 2:]\n",
      "[[ 0.82084456  0.23890534]\n",
      " [ 1.02392687 -0.24090645]]\n",
      "\n",
      "data[~((names == 'Bob') | (names == 'Joe'))]\n",
      "[[-0.6526113  -0.62522541  1.01935729  0.81349199]\n",
      " [-0.47332059  0.4513057  -0.07305773  0.46393897]]\n",
      "\n",
      "data[data < 0] = 0 \n",
      "[[0.88054135 2.13056583 0.82084456 0.23890534]\n",
      " [0.         0.         0.         0.        ]\n",
      " [0.         0.         1.01935729 0.81349199]\n",
      " [0.50352333 0.04825818 1.02392687 0.        ]\n",
      " [0.         0.4513057  0.         0.46393897]\n",
      " [1.01939127 0.13793575 0.58420409 1.55913676]\n",
      " [0.27600629 0.         0.08848014 1.34824878]]\n"
     ]
    }
   ],
   "source": [
    "# （7,4)行列を作成。要素は標準正規分布\n",
    "data = np.random.randn(7, 4)\n",
    "print(\"data = \\n{}\\n\".format(data))\n",
    "\n",
    "names = np.array([\"Bob\", \"Joe\", \"Will\", \"Bob\", \"Will\", \"Joe\", \"Joe\"])\n",
    "\n",
    "# 真偽値配列を作成\n",
    "bool_names = (names == \"Bob\")\n",
    "print(\"names == 'Bob'\\n{} {}\\n\".format(bool_names, bool_names.dtype))\n",
    "\n",
    "# data の インデックス番号 0,2 の行の３列目以降を取得 （デフォルトは axis=0 ）\n",
    "print(\"data[names == 'Bob', 2:]\\n{}\\n\".format(data[names == 'Bob', 2:]))\n",
    "\n",
    "# Bob またJoe ではない（＝Will）ブールインデックス参照\n",
    "print(\"data[~((names == 'Bob') | (names == 'Joe'))]\\n{}\\n\".format(data[~((names == 'Bob') | (names == 'Joe'))]))\n",
    "\n",
    "# 条件を満たす要素にゼロを代入\n",
    "data[data < 0] = 0\n",
    "print(\"data[data < 0] = 0 \\n{}\".format(data))"
   ]
  },
  {
   "cell_type": "markdown",
   "metadata": {},
   "source": [
    "***\n",
    "p112\n",
    "* インデックス参照に、整数配列を用いた参照方法を __ファンシーインデックス参照__ と呼ぶ。"
   ]
  },
  {
   "cell_type": "code",
   "execution_count": 7,
   "metadata": {},
   "outputs": [
    {
     "name": "stdout",
     "output_type": "stream",
     "text": [
      "arr = \n",
      "[[0. 0. 0. 0.]\n",
      " [1. 1. 1. 1.]\n",
      " [2. 2. 2. 2.]\n",
      " [3. 3. 3. 3.]\n",
      " [4. 4. 4. 4.]\n",
      " [5. 5. 5. 5.]\n",
      " [6. 6. 6. 6.]\n",
      " [7. 7. 7. 7.]]\n",
      "\n",
      "arr[[4, 3, 0, 6]] = \n",
      "[[4. 4. 4. 4.]\n",
      " [3. 3. 3. 3.]\n",
      " [0. 0. 0. 0.]\n",
      " [6. 6. 6. 6.]]\n",
      "\n",
      "arr = \n",
      "[[ 0  1  2  3]\n",
      " [ 4  5  6  7]\n",
      " [ 8  9 10 11]\n",
      " [12 13 14 15]\n",
      " [16 17 18 19]\n",
      " [20 21 22 23]\n",
      " [24 25 26 27]\n",
      " [28 29 30 31]]\n",
      "\n",
      "### arr から　[1,0]、[5, 3], [7, 2], [2, 2]　の要素をコピー\n",
      "arr[[1, 5, 7, 2], [0, 3, 1, 2]] = [ 4 23 29 10]\n"
     ]
    }
   ],
   "source": [
    "arr = np.empty((8, 4))\n",
    "for i in range(8):\n",
    "    arr[i] = i\n",
    "\n",
    "print(\"arr = \\n{}\\n\".format(arr))\n",
    "\n",
    "#ファンシーインデックス参照\n",
    "print(\"arr[[4, 3, 0, 6]] = \\n{}\\n\".format(arr[[4, 3, 0, 6]]))\n",
    "\n",
    "# reshapeはコピーを作成\n",
    "arr = np.arange(32).reshape((8,4))\n",
    "print(\"arr = \\n{}\\n\".format(arr))\n",
    "\n",
    "print(\"### arr から　[1,0]、[5, 3], [7, 2], [2, 2]　の要素をコピー\")\n",
    "print(\"arr[[1, 5, 7, 2], [0, 3, 1, 2]] = {}\".format(arr[[1, 5, 7, 2], [0, 3, 1, 2]]))"
   ]
  },
  {
   "cell_type": "markdown",
   "metadata": {},
   "source": [
    "***\n",
    "p113\n",
    "* 転置はビューを返す。(transpose は T より複雑な行列の再配置が行える）。\n",
    "\n",
    "p114\n",
    "* swapaxesは任意の軸を入れ替えられる。"
   ]
  },
  {
   "cell_type": "code",
   "execution_count": 8,
   "metadata": {},
   "outputs": [
    {
     "name": "stdout",
     "output_type": "stream",
     "text": [
      "arr = \n",
      "[[ 0  1  2  3  4]\n",
      " [ 5  6  7  8  9]\n",
      " [10 11 12 13 14]]\n",
      "\n",
      "arr.T = \n",
      "[[ 0  5 10]\n",
      " [ 1  6 11]\n",
      " [ 2  7 12]\n",
      " [ 3  8 13]\n",
      " [ 4  9 14]]\n",
      "\n",
      "### 転置前のオリジナル　2×3×4 行列\n",
      "arr2 = \n",
      "[[[ 0  1  2  3]\n",
      "  [ 4  5  6  7]\n",
      "  [ 8  9 10 11]]\n",
      "\n",
      " [[12 13 14 15]\n",
      "  [16 17 18 19]\n",
      "  [20 21 22 23]]]\n",
      "\n",
      "### 引数が axis（軸）。今回は、０番目と１番目の軸を入れ替えた(= 3×2×4 行列)ビューを作成\n",
      "arr2.transpose(1,0,2) = \n",
      "[[[ 0  1  2  3]\n",
      "  [12 13 14 15]]\n",
      "\n",
      " [[ 4  5  6  7]\n",
      "  [16 17 18 19]]\n",
      "\n",
      " [[ 8  9 10 11]\n",
      "  [20 21 22 23]]]\n",
      "\n",
      "### 1番目と2番目の軸を入れ替えた(= 2×4×3 行列) ビューを作成\n",
      "arr2.swapaxes(1,2) = \n",
      "[[[ 0  4  8]\n",
      "  [ 1  5  9]\n",
      "  [ 2  6 10]\n",
      "  [ 3  7 11]]\n",
      "\n",
      " [[12 16 20]\n",
      "  [13 17 21]\n",
      "  [14 18 22]\n",
      "  [15 19 23]]]\n",
      "\n"
     ]
    }
   ],
   "source": [
    "arr = np.arange(15).reshape(3, 5)\n",
    "print(\"arr = \\n{}\\n\".format(arr))\n",
    "print(\"arr.T = \\n{}\\n\".format(arr.T))\n",
    "\n",
    "# 2×3×4 行列\n",
    "arr2 = np.arange(24).reshape(2, 3, 4)\n",
    "print(\"### 転置前のオリジナル　2×3×4 行列\")\n",
    "print(\"arr2 = \\n{}\\n\".format(arr2))\n",
    "\n",
    "print(\"### 引数が axis（軸）。今回は、０番目と１番目の軸を入れ替えた(= 3×2×4 行列)ビューを作成\")\n",
    "print(\"arr2.transpose(1,0,2) = \\n{}\\n\".format(arr2.transpose(1, 0, 2)))\n",
    "\n",
    "print(\"### 1番目と2番目の軸を入れ替えた(= 2×4×3 行列) ビューを作成\")\n",
    "print(\"arr2.swapaxes(1,2) = \\n{}\\n\".format(arr2.swapaxes(1, 2)))\n",
    "\n",
    "# 遊び：多次元配列を理解する練習\n",
    "arr3 = np.arange(120).reshape(2, 3, 4, 5)\n",
    "arr4 = np.arange(120).reshape(1, 2, 3, 4, 5)"
   ]
  },
  {
   "cell_type": "markdown",
   "metadata": {},
   "source": [
    "## 4.2 ユニバーサル関数:すべての配列要素への関数適用\n",
    "\n",
    "p114\n",
    "* 全ての配列要素に関数をて適用する関数を __ユニバーサル関数__ と呼ぶ。\n",
    "\n",
    "p116\n",
    "* 関数結果は自分に影響を与えない（出力に自分自身を指定した場合は除く）\n"
   ]
  },
  {
   "cell_type": "code",
   "execution_count": 9,
   "metadata": {},
   "outputs": [
    {
     "name": "stdout",
     "output_type": "stream",
     "text": [
      "適用前 arr = [-0.58154442  0.44547455  0.31288826  0.04378179  1.62455416 -1.60405026\n",
      "  0.04028855  1.91468069]\n",
      "\n",
      "np.rint(arr) = [-1.  0.  0.  0.  2. -2.  0.  2.]\n",
      "\n",
      "適用後 arr = [-0.58154442  0.44547455  0.31288826  0.04378179  1.62455416 -1.60405026\n",
      "  0.04028855  1.91468069]\n",
      "\n",
      "### 計算結果に自身を指定\n",
      "np.rint(arr, arr) = [-1.  0.  0.  0.  2. -2.  0.  2.]\n",
      "\n"
     ]
    }
   ],
   "source": [
    "arr = np.random.randn(8)\n",
    "print(\"適用前 arr = {}\\n\".format(arr))\n",
    "print(\"np.rint(arr) = {}\\n\".format(np.rint(arr)))\n",
    "print(\"適用後 arr = {}\\n\".format(arr))\n",
    "\n",
    "print(\"### 計算結果に自身を指定\")\n",
    "np.rint(arr, arr)\n",
    "print(\"np.rint(arr, arr) = {}\\n\".format(arr))"
   ]
  },
  {
   "cell_type": "markdown",
   "metadata": {},
   "source": [
    "## 4.3 ndarrayによる配列指向プログラミング\n",
    "p117\n",
    "* ベクトル演算はPython標準と比べて__非常に高速。__\n",
    "* numpy.where は　三項演算子のベクトル版。\n",
    "\n",
    "p121\n",
    "* 統計関数は軸を指定可能。"
   ]
  },
  {
   "cell_type": "code",
   "execution_count": 10,
   "metadata": {},
   "outputs": [
    {
     "name": "stdout",
     "output_type": "stream",
     "text": [
      "arr = \n",
      "[[ 0.59656788  0.85492722  0.35428915 -0.70683823]\n",
      " [-0.9002764  -0.98592633  0.33706954 -0.37696156]\n",
      " [ 0.4525175  -0.12489672 -0.86366461  1.18343514]\n",
      " [ 2.32185362 -0.27848774 -1.47937479  0.73189732]]\n",
      "\n",
      "arr > 0 \n",
      "[[ True  True  True False]\n",
      " [False False  True False]\n",
      " [ True False False  True]\n",
      " [ True False False  True]]\n",
      "\n",
      "### arr の要素が 0 より大きければ 1 を、それ以外は -2 で置換する。\n",
      "np.where(arr > 0, 1, -2) \n",
      "[[ 1  1  1 -2]\n",
      " [-2 -2  1 -2]\n",
      " [ 1 -2 -2  1]\n",
      " [ 1 -2 -2  1]]\n",
      "\n",
      "arr2 \n",
      "[[0 1 2]\n",
      " [3 4 5]]\n",
      "\n",
      "arr2.mean() \n",
      "2.5\n",
      "\n",
      "np.mean(arr) \n",
      "0.06975818708265381\n",
      "\n",
      "arr2.mean(1) \n",
      "[1. 4.]\n",
      "\n"
     ]
    }
   ],
   "source": [
    "# 4×4行列を作成。要素は標準正規分布\n",
    "arr = np.random.randn(4, 4)\n",
    "print(\"arr = \\n{}\\n\".format(arr))\n",
    "print(\"arr > 0 \\n{}\\n\".format(arr > 0))\n",
    "\n",
    "print(\"### arr の要素が 0 より大きければ 1 を、それ以外は -2 で置換する。\")\n",
    "print(\"np.where(arr > 0, 1, -2) \\n{}\\n\".format(np.where(arr > 0, 1, -2)))\n",
    "\n",
    "arr2 = np.arange(6).reshape(2, 3)\n",
    "print(\"arr2 \\n{}\\n\".format(arr2))\n",
    "print(\"arr2.mean() \\n{}\\n\".format(arr2.mean()))\n",
    "print(\"np.mean(arr) \\n{}\\n\".format(np.mean(arr)))\n",
    "print(\"arr2.mean(1) \\n{}\\n\".format(arr2.mean(1)))"
   ]
  },
  {
   "cell_type": "markdown",
   "metadata": {},
   "source": [
    "***\n",
    "p122\n",
    "* True=1、False=0 として評価される。\n",
    "\n",
    "p123\n",
    "* any,allとも真偽値以外の配列に対して適用可能（ゼロ以外は True扱い）\n"
   ]
  },
  {
   "cell_type": "code",
   "execution_count": 11,
   "metadata": {},
   "outputs": [
    {
     "name": "stdout",
     "output_type": "stream",
     "text": [
      "arr = \n",
      "[-1.31023214  0.74311949 -1.09676477  1.35436523 -0.98617127 -0.27397974]\n",
      "\n",
      "### 正の個数　{ (arr > 0)　で真偽値配列を作成 }\n",
      "(arr > 0).sum() = 2\n",
      "\n",
      "bools = np.array([False, 0, -1, np.NaN]) = [ 0.  0. -1. nan]\n",
      "bools.any() = True\n",
      "bools.all() = False\n"
     ]
    }
   ],
   "source": [
    "arr = np.random.randn(6)\n",
    "print(\"arr = \\n{}\\n\".format(arr))\n",
    "\n",
    "print(\"### 正の個数　{ (arr > 0)　で真偽値配列を作成 }\")\n",
    "print(\"(arr > 0).sum() = {}\\n\".format((arr > 0).sum()))\n",
    "\n",
    "bools = np.array([False, 0, -1, np.NaN])\n",
    "print(\"bools = np.array([False, 0, -1, np.NaN]) = {}\".format(bools))\n",
    "print(\"bools.any() = {}\".format(bools.any()))\n",
    "print(\"bools.all() = {}\".format(bools.all()))"
   ]
  },
  {
   "cell_type": "markdown",
   "metadata": {},
   "source": [
    "***\n",
    "p123\n",
    "* ソートは元データを置換する。\n",
    "* axisを指定してソート可能\n",
    "\n",
    "p124\n",
    "* 5パーセンタイル分位は、ソート後のインデックス番号を指定する事で求めている。\n",
    "* 集合関数はuniqu()の利用頻度が高い"
   ]
  },
  {
   "cell_type": "code",
   "execution_count": 12,
   "metadata": {},
   "outputs": [
    {
     "name": "stdout",
     "output_type": "stream",
     "text": [
      "ソート前 arr = [-7.40299557e-01 -2.24375524e-03 -2.30933873e+00 -6.16589542e-01\n",
      " -5.02728600e-01  5.74838162e-01]\n",
      "ソート後 arr = [-2.30933873e+00 -7.40299557e-01 -6.16589542e-01 -5.02728600e-01\n",
      " -2.24375524e-03  5.74838162e-01]\n",
      "\n",
      "str_arr = ['a' '1' 'a' 'b' '2']\n",
      "np.unique(str_arr) = ['1' '2' 'a' 'b']\n"
     ]
    }
   ],
   "source": [
    "arr = np.random.randn(6)\n",
    "print(\"ソート前 arr = {}\".format(arr))\n",
    "arr.sort()\n",
    "print(\"ソート後 arr = {}\\n\".format(arr))\n",
    "\n",
    "# 数字が文字列扱いとして配列化されている事に注意\n",
    "str_arr = np.array([\"a\", 1, \"a\", \"b\", 2])\n",
    "print(\"str_arr = {}\".format(str_arr))\n",
    "print(\"np.unique(str_arr) = {}\".format(np.unique(str_arr)))\n"
   ]
  },
  {
   "cell_type": "markdown",
   "metadata": {
    "heading_collapsed": true
   },
   "source": [
    "## 4.4 ndarrayのファイル入出力\n",
    "p126\n",
    "* numpyオブジェクトのファイル入出力ができる。  \n",
    "(詳細は、「6章 データの読み込み、書き出しとファイル形式」参照)\n"
   ]
  },
  {
   "cell_type": "markdown",
   "metadata": {},
   "source": [
    "## 4.5 行列計算\n",
    "p127\n",
    "* `x.dot(y)` は `np.dot(x,y)` と同じ。  \n",
    "* 行列の掛け算の演算子は @\n",
    "* 行列の分解、逆行列、行列式の計算は、__numpy.linalg__ モジュールで提供。"
   ]
  },
  {
   "cell_type": "code",
   "execution_count": 13,
   "metadata": {},
   "outputs": [
    {
     "name": "stdout",
     "output_type": "stream",
     "text": [
      "X = \n",
      "[[1 2]\n",
      " [3 4]]\n",
      "\n",
      "逆行列 inv(X) = \n",
      "[[-2.   1. ]\n",
      " [ 1.5 -0.5]]\n",
      "\n",
      "例外発生エラーメッセージ：<class 'numpy.linalg.linalg.LinAlgError'> ('Singular matrix',)\n"
     ]
    }
   ],
   "source": [
    "from numpy.linalg import inv, qr\n",
    "\n",
    "X = np.array([[1,2],[3,4]])\n",
    "Y = np.array([[1,2],[2,4]])\n",
    "print(\"X = \\n{}\\n\".format(X))\n",
    "\n",
    "print(\"逆行列 inv(X) = \\n{}\\n\".format(inv(X)))\n",
    "\n",
    "# 逆行列が存在しない場合はLinAlgError発生\n",
    "try:\n",
    "    inv(Y)\n",
    "except Exception as e:\n",
    "    print(\"例外発生エラーメッセージ：{} {}\".format(type(e), e.args))\n"
   ]
  },
  {
   "cell_type": "markdown",
   "metadata": {},
   "source": [
    "## 4.6 擬似乱数生成\n",
    "\n",
    "p129\n",
    "* Python標準で実現するより劇的に早い。\n",
    "* シード値を設定する事で、生成される乱数が固定される。"
   ]
  },
  {
   "cell_type": "code",
   "execution_count": 14,
   "metadata": {
    "scrolled": true
   },
   "outputs": [
    {
     "name": "stdout",
     "output_type": "stream",
     "text": [
      "1.11 s ± 107 ms per loop (mean ± std. dev. of 7 runs, 1 loop each)\n"
     ]
    }
   ],
   "source": [
    "from random import normalvariate\n",
    "N = 1000000\n",
    "\n",
    "#シード値設定\n",
    "np.random.seed(123)\n",
    "\n",
    "# 先ずはPython標準\n",
    "%timeit samples = [normalvariate(0, 1) for _ in range(N)]"
   ]
  },
  {
   "cell_type": "code",
   "execution_count": 15,
   "metadata": {},
   "outputs": [
    {
     "name": "stdout",
     "output_type": "stream",
     "text": [
      "42.8 ms ± 1.47 ms per loop (mean ± std. dev. of 7 runs, 10 loops each)\n"
     ]
    }
   ],
   "source": [
    "# 次はNumpy\n",
    "%timeit np.random.normal(size=N)"
   ]
  },
  {
   "cell_type": "markdown",
   "metadata": {},
   "source": [
    "## 4.7 例:ランダムウォーク\n",
    "\n",
    "p130\n",
    "* Numpyを使って確率のお遊び。戻り値が１であれば +1、それ以外は -1 でランダムウォークを再現。"
   ]
  },
  {
   "cell_type": "code",
   "execution_count": 17,
   "metadata": {},
   "outputs": [
    {
     "name": "stdout",
     "output_type": "stream",
     "text": [
      "### random.randint(0, 1) = 0\n",
      "### random.randint(0, 1) = 1\n",
      "### random.randint(0, 1) = 1\n",
      "### random.randint(0, 1) = 0\n",
      "### random.randint(0, 1) = 0\n",
      "### random.randint(0, 1) = 1\n",
      "### random.randint(0, 1) = 0\n",
      "### random.randint(0, 1) = 0\n",
      "### random.randint(0, 1) = 1\n",
      "### random.randint(0, 1) = 1\n",
      "\n",
      "### walk[1000] = 44\n"
     ]
    },
    {
     "data": {
      "image/png": "[encoded data removed]",
      "text/plain": [
       "<matplotlib.figure.Figure at 0x10f843f60>"
      ]
     },
     "metadata": {},
     "output_type": "display_data"
    }
   ],
   "source": [
    "import random\n",
    "import matplotlib.pyplot as plt\n",
    "\n",
    "# 初期位置\n",
    "position = 0 \n",
    "\n",
    "# 最終位置位置\n",
    "walk = [position]\n",
    "\n",
    "# 試行回数\n",
    "steps = 1000\n",
    "\n",
    "for i in range(10):\n",
    "    print(\"### random.randint(0, 1) = {}\".format(random.randint(0, 1)))\n",
    "\n",
    "for i in range(steps):\n",
    "    step = 1 if random.randint(0, 1) else -1\n",
    "    position += step\n",
    "    walk.append(position)\n",
    "\n",
    "print(\"\\n### walk[1000] = {}\".format(walk[1000]))\n",
    "\n",
    "plt.figure(figsize=(9, 6))\n",
    "plt.plot(walk[:])\n",
    "plt.show()"
   ]
  },
  {
   "cell_type": "markdown",
   "metadata": {},
   "source": [
    "# 感想\n",
    "* ビューを返すのか、コピーを返すのかは意識する必要がありそう。  \n",
    "（ビューを編集すれば、元データに変更が反映される。）\n",
    "* 多次元配列は、階層をインデントして整理しないと混乱する。\n",
    "* 軸の概念の理解は重要かも。２次元までなら、axis=0 (列)、axis=1 (行)で考えられる。\n",
    "* 発表用に資料作すると結構時間かかる。"
   ]
  },
  {
   "cell_type": "code",
   "execution_count": null,
   "metadata": {},
   "outputs": [],
   "source": []
  }
 ],
 "metadata": {
  "kernelspec": {
   "display_name": "Python 3",
   "language": "python",
   "name": "python3"
  },
  "language_info": {
   "codemirror_mode": {
    "name": "ipython",
    "version": 3
   },
   "file_extension": ".py",
   "mimetype": "text/x-python",
   "name": "python",
   "nbconvert_exporter": "python",
   "pygments_lexer": "ipython3",
   "version": "3.6.4"
  },
  "toc": {
   "base_numbering": 1,
   "nav_menu": {},
   "number_sections": false,
   "sideBar": true,
   "skip_h1_title": false,
   "title_cell": "目次",
   "title_sidebar": "Contents",
   "toc_cell": false,
   "toc_position": {
    "height": "calc(100% - 180px)",
    "left": "10px",
    "top": "150px",
    "width": "165px"
   },
   "toc_section_display": true,
   "toc_window_display": true
  }
 },
 "nbformat": 4,
 "nbformat_minor": 2
}
